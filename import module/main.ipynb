{
 "cells": [
  {
   "cell_type": "code",
   "execution_count": 1,
   "metadata": {},
   "outputs": [],
   "source": [
    "import numpy as np\n",
    "import pandas as pd\n",
    "import matplotlib.pyplot as plt\n",
    "\n",
    "from sklearn.linear_model import LinearRegression"
   ]
  },
  {
   "cell_type": "markdown",
   "metadata": {},
   "source": [
    "# import ... 폴더나 파일 만을 임포트"
   ]
  },
  {
   "cell_type": "code",
   "execution_count": 3,
   "metadata": {},
   "outputs": [
    {
     "name": "stdout",
     "output_type": "stream",
     "text": [
      "폴더 임포트 성공\n"
     ]
    }
   ],
   "source": [
    "import package_1\n",
    "import package_1.subpackage \n",
    "print('폴더 임포트 성공') "
   ]
  },
  {
   "cell_type": "code",
   "execution_count": 6,
   "metadata": {},
   "outputs": [
    {
     "name": "stdout",
     "output_type": "stream",
     "text": [
      "module_5.py is imported\n",
      "파일 임포트 성공\n"
     ]
    }
   ],
   "source": [
    "#import module_1\n",
    "#import package_1.module_3\n",
    "import package_1.subpackage.module_5\n",
    "print('파일 임포트 성공')"
   ]
  },
  {
   "cell_type": "code",
   "execution_count": 7,
   "metadata": {},
   "outputs": [
    {
     "name": "stdout",
     "output_type": "stream",
     "text": [
      "클래스 임포트 실패\n"
     ]
    }
   ],
   "source": [
    "try:\n",
    "    import module_1.Student \n",
    "    print('클래스 임포트 성공')\n",
    "except:\n",
    "    print('클래스 임포트 실패')"
   ]
  },
  {
   "cell_type": "code",
   "execution_count": 8,
   "metadata": {},
   "outputs": [
    {
     "name": "stdout",
     "output_type": "stream",
     "text": [
      "함수 임포트 실패\n"
     ]
    }
   ],
   "source": [
    "try:\n",
    "    import module_1.f \n",
    "    print('함수 임포트 성공')\n",
    "except:\n",
    "    print('함수 임포트 실패')"
   ]
  },
  {
   "cell_type": "code",
   "execution_count": 9,
   "metadata": {},
   "outputs": [
    {
     "name": "stdout",
     "output_type": "stream",
     "text": [
      "변수 임포트 실패\n"
     ]
    }
   ],
   "source": [
    "try:\n",
    "    import module_1.variable \n",
    "    print('변수 임포트 성공')\n",
    "except:\n",
    "    print('변수 임포트 실패')"
   ]
  },
  {
   "cell_type": "markdown",
   "metadata": {},
   "source": [
    "# from ... import ... 폴더, 파일, 함수, 변수 모두를 임포트"
   ]
  },
  {
   "cell_type": "code",
   "execution_count": 10,
   "metadata": {},
   "outputs": [
    {
     "name": "stdout",
     "output_type": "stream",
     "text": [
      "폴더 임포트 성공\n"
     ]
    }
   ],
   "source": [
    "from package_1 import subpackage \n",
    "print('폴더 임포트 성공') "
   ]
  },
  {
   "cell_type": "code",
   "execution_count": 14,
   "metadata": {},
   "outputs": [
    {
     "name": "stdout",
     "output_type": "stream",
     "text": [
      "파일 임포트 성공\n"
     ]
    }
   ],
   "source": [
    "#from package_1 import module_3 \n",
    "from package_1.subpackage import module_5\n",
    "#from package_1 import subpackage.module_5 # SyntaxError: invalid syntax\n",
    "print('파일 임포트 성공')"
   ]
  },
  {
   "cell_type": "code",
   "execution_count": 17,
   "metadata": {},
   "outputs": [
    {
     "name": "stdout",
     "output_type": "stream",
     "text": [
      "클래스 임포트 성공\n"
     ]
    }
   ],
   "source": [
    "#from module_1 import Student\n",
    "#from package_1.module_3 import Student  \n",
    "from package_1.subpackage.module_5 import Student \n",
    "print('클래스 임포트 성공')"
   ]
  },
  {
   "cell_type": "code",
   "execution_count": 19,
   "metadata": {},
   "outputs": [
    {
     "name": "stdout",
     "output_type": "stream",
     "text": [
      "함수 임포트 성공\n",
      "2\n"
     ]
    }
   ],
   "source": [
    "from module_1 import f\n",
    "from package_1.module_3 import f  \n",
    "from package_1.subpackage.module_5 import f \n",
    "print('함수 임포트 성공')\n",
    "print(f(1,1))"
   ]
  },
  {
   "cell_type": "code",
   "execution_count": 20,
   "metadata": {},
   "outputs": [
    {
     "name": "stdout",
     "output_type": "stream",
     "text": [
      "module_1.py is imported\n",
      "module_3.py is imported\n",
      "변수 임포트 성공\n"
     ]
    }
   ],
   "source": [
    "from module_1 import variable; print(variable)\n",
    "from package_1.module_3 import variable; print(variable)  \n",
    "from package_1.subpackage.module_5 import variable \n",
    "print('변수 임포트 성공')"
   ]
  },
  {
   "cell_type": "markdown",
   "metadata": {},
   "source": [
    "# sys.path"
   ]
  },
  {
   "cell_type": "code",
   "execution_count": 6,
   "metadata": {},
   "outputs": [
    {
     "ename": "ModuleNotFoundError",
     "evalue": "No module named 'module_1'",
     "output_type": "error",
     "traceback": [
      "\u001b[0;31m---------------------------------------------------------------------------\u001b[0m",
      "\u001b[0;31mModuleNotFoundError\u001b[0m                       Traceback (most recent call last)",
      "\u001b[0;32m<ipython-input-6-0b7f5fa50ce0>\u001b[0m in \u001b[0;36m<module>\u001b[0;34m\u001b[0m\n\u001b[0;32m----> 1\u001b[0;31m \u001b[0;32mimport\u001b[0m \u001b[0mmodule_1\u001b[0m\u001b[0;34m\u001b[0m\u001b[0;34m\u001b[0m\u001b[0m\n\u001b[0m",
      "\u001b[0;31mModuleNotFoundError\u001b[0m: No module named 'module_1'"
     ]
    }
   ],
   "source": [
    "import module_1"
   ]
  },
  {
   "cell_type": "code",
   "execution_count": 7,
   "metadata": {},
   "outputs": [
    {
     "data": {
      "text/plain": [
       "['/Users/sungchullee/Dropbox/Git/python/import module',\n",
       " '/Users/sungchullee/anaconda3/lib/python37.zip',\n",
       " '/Users/sungchullee/anaconda3/lib/python3.7',\n",
       " '/Users/sungchullee/anaconda3/lib/python3.7/lib-dynload',\n",
       " '',\n",
       " '/Users/sungchullee/.local/lib/python3.7/site-packages',\n",
       " '/Users/sungchullee/anaconda3/lib/python3.7/site-packages',\n",
       " '/Users/sungchullee/anaconda3/lib/python3.7/site-packages/aeosa',\n",
       " '/Users/sungchullee/anaconda3/lib/python3.7/site-packages/IPython/extensions',\n",
       " '/Users/sungchullee/.ipython']"
      ]
     },
     "execution_count": 7,
     "metadata": {},
     "output_type": "execute_result"
    }
   ],
   "source": [
    "import sys\n",
    "sys.path"
   ]
  },
  {
   "cell_type": "code",
   "execution_count": 2,
   "metadata": {},
   "outputs": [
    {
     "data": {
      "text/plain": [
       "['/Users/sungchullee/Dropbox/Git/python/import module',\n",
       " '/Users/sungchullee/anaconda3/lib/python37.zip',\n",
       " '/Users/sungchullee/anaconda3/lib/python3.7',\n",
       " '/Users/sungchullee/anaconda3/lib/python3.7/lib-dynload',\n",
       " '',\n",
       " '/Users/sungchullee/.local/lib/python3.7/site-packages',\n",
       " '/Users/sungchullee/anaconda3/lib/python3.7/site-packages',\n",
       " '/Users/sungchullee/anaconda3/lib/python3.7/site-packages/aeosa',\n",
       " '/Users/sungchullee/anaconda3/lib/python3.7/site-packages/IPython/extensions',\n",
       " '/Users/sungchullee/.ipython']"
      ]
     },
     "execution_count": 2,
     "metadata": {},
     "output_type": "execute_result"
    }
   ],
   "source": [
    "import sys\n",
    "sys.path"
   ]
  },
  {
   "cell_type": "code",
   "execution_count": 8,
   "metadata": {},
   "outputs": [
    {
     "data": {
      "text/plain": [
       "['/Users/sungchullee/Dropbox/Git/python/import module',\n",
       " '/Users/sungchullee/anaconda3/lib/python37.zip',\n",
       " '/Users/sungchullee/anaconda3/lib/python3.7',\n",
       " '/Users/sungchullee/anaconda3/lib/python3.7/lib-dynload',\n",
       " '',\n",
       " '/Users/sungchullee/.local/lib/python3.7/site-packages',\n",
       " '/Users/sungchullee/anaconda3/lib/python3.7/site-packages',\n",
       " '/Users/sungchullee/anaconda3/lib/python3.7/site-packages/aeosa',\n",
       " '/Users/sungchullee/anaconda3/lib/python3.7/site-packages/IPython/extensions',\n",
       " '/Users/sungchullee/.ipython',\n",
       " '/Users/sungchullee/Desktop']"
      ]
     },
     "execution_count": 8,
     "metadata": {},
     "output_type": "execute_result"
    }
   ],
   "source": [
    "sys.path.append('/Users/sungchullee/Desktop')\n",
    "sys.path"
   ]
  },
  {
   "cell_type": "code",
   "execution_count": 9,
   "metadata": {},
   "outputs": [
    {
     "name": "stdout",
     "output_type": "stream",
     "text": [
      "module_1.py is imported\n"
     ]
    }
   ],
   "source": [
    "import module_1"
   ]
  },
  {
   "cell_type": "code",
   "execution_count": null,
   "metadata": {},
   "outputs": [],
   "source": []
  }
 ],
 "metadata": {
  "kernelspec": {
   "display_name": "Python 3",
   "language": "python",
   "name": "python3"
  },
  "language_info": {
   "codemirror_mode": {
    "name": "ipython",
    "version": 3
   },
   "file_extension": ".py",
   "mimetype": "text/x-python",
   "name": "python",
   "nbconvert_exporter": "python",
   "pygments_lexer": "ipython3",
   "version": "3.7.7"
  }
 },
 "nbformat": 4,
 "nbformat_minor": 4
}
