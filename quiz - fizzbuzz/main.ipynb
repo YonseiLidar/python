{
 "cells": [
  {
   "cell_type": "markdown",
   "metadata": {},
   "source": [
    "for i in range(1, 101):\n",
    "    # do the following \n",
    "    # if i can be divided by 3 but not by 5, print 'Fizz'\n",
    "    # if i can be divided by 5 but not by 3, print 'Buzz'\n",
    "    # if i can be divided by both 3 and 5, print 'FizzBuzz'\n",
    "    # if i cannot be divided by either 3 or 5, print str(i)    "
   ]
  },
  {
   "cell_type": "markdown",
   "metadata": {},
   "source": [
    "# wrong implementation"
   ]
  },
  {
   "cell_type": "code",
   "execution_count": 43,
   "metadata": {},
   "outputs": [
    {
     "name": "stdout",
     "output_type": "stream",
     "text": [
      "1\t2\tFizz\t4\tBuzz\tFizz\t7\t8\tFizz\tBuzz\t11\tFizz\t13\t14\tFizz\t16\t17\tFizz\t19\tBuzz\tFizz\t22\t23\tFizz\tBuzz\t26\tFizz\t28\t29\tFizz\t31\t32\tFizz\t34\tBuzz\tFizz\t37\t38\tFizz\tBuzz\t41\tFizz\t43\t44\tFizz\t46\t47\tFizz\t49\tBuzz\tFizz\t52\t53\tFizz\tBuzz\t56\tFizz\t58\t59\tFizz\t61\t62\tFizz\t64\tBuzz\tFizz\t67\t68\tFizz\tBuzz\t71\tFizz\t73\t74\tFizz\t76\t77\tFizz\t79\tBuzz\tFizz\t82\t83\tFizz\tBuzz\t86\tFizz\t88\t89\tFizz\t91\t92\tFizz\t94\tBuzz\tFizz\t97\t98\tFizz\tBuzz\t"
     ]
    }
   ],
   "source": [
    "for i in range(1, 101):\n",
    "    if i % 3 == 0: \n",
    "        print('Fizz', end='\\t')\n",
    "    elif i % 5 == 0: \n",
    "        print('Buzz', end='\\t')\n",
    "    elif i % 15 == 0:\n",
    "        print('FizzBuzz', end='\\t')\n",
    "    else:\n",
    "        print(str(i), end='\\t')"
   ]
  },
  {
   "cell_type": "markdown",
   "metadata": {},
   "source": [
    "# direct implementation"
   ]
  },
  {
   "cell_type": "code",
   "execution_count": 44,
   "metadata": {},
   "outputs": [
    {
     "name": "stdout",
     "output_type": "stream",
     "text": [
      "1\t2\tFizz\t4\tBuzz\tFizz\t7\t8\tFizz\tBuzz\t11\tFizz\t13\t14\tFizzBuzz\t16\t17\tFizz\t19\tBuzz\tFizz\t22\t23\tFizz\tBuzz\t26\tFizz\t28\t29\tFizzBuzz\t31\t32\tFizz\t34\tBuzz\tFizz\t37\t38\tFizz\tBuzz\t41\tFizz\t43\t44\tFizzBuzz\t46\t47\tFizz\t49\tBuzz\tFizz\t52\t53\tFizz\tBuzz\t56\tFizz\t58\t59\tFizzBuzz\t61\t62\tFizz\t64\tBuzz\tFizz\t67\t68\tFizz\tBuzz\t71\tFizz\t73\t74\tFizzBuzz\t76\t77\tFizz\t79\tBuzz\tFizz\t82\t83\tFizz\tBuzz\t86\tFizz\t88\t89\tFizzBuzz\t91\t92\tFizz\t94\tBuzz\tFizz\t97\t98\tFizz\tBuzz\t"
     ]
    }
   ],
   "source": [
    "for i in range(1, 101):\n",
    "    if i % 15 == 0:\n",
    "        print('FizzBuzz', end='\\t')\n",
    "    elif i % 3 == 0: \n",
    "        print('Fizz', end='\\t')\n",
    "    elif i % 5 == 0: \n",
    "        print('Buzz', end='\\t')\n",
    "    else:\n",
    "        print(str(i), end='\\t')"
   ]
  },
  {
   "cell_type": "code",
   "execution_count": 45,
   "metadata": {},
   "outputs": [
    {
     "name": "stdout",
     "output_type": "stream",
     "text": [
      "1\t2\tFizz\t4\tBuzz\tFizz\t7\t8\tFizz\tBuzz\t11\tFizz\t13\t14\tFizzBuzz\t16\t17\tFizz\t19\tBuzz\tFizz\t22\t23\tFizz\tBuzz\t26\tFizz\t28\t29\tFizzBuzz\t31\t32\tFizz\t34\tBuzz\tFizz\t37\t38\tFizz\tBuzz\t41\tFizz\t43\t44\tFizzBuzz\t46\t47\tFizz\t49\tBuzz\tFizz\t52\t53\tFizz\tBuzz\t56\tFizz\t58\t59\tFizzBuzz\t61\t62\tFizz\t64\tBuzz\tFizz\t67\t68\tFizz\tBuzz\t71\tFizz\t73\t74\tFizzBuzz\t76\t77\tFizz\t79\tBuzz\tFizz\t82\t83\tFizz\tBuzz\t86\tFizz\t88\t89\tFizzBuzz\t91\t92\tFizz\t94\tBuzz\tFizz\t97\t98\tFizz\tBuzz\t"
     ]
    }
   ],
   "source": [
    "def fizz_buzz_response(i):\n",
    "    \n",
    "    \"\"\"\n",
    "    if i can be divided by 3 but not by 5, return 'Fizz'\n",
    "    if i can be divided by 5 but not by 3, return 'Buzz'\n",
    "    if i can be divided by both 3 and 5, return 'FizzBuzz'\n",
    "    if i cannot be divided by either 3 or 5, return str(i) \n",
    "    \"\"\"\n",
    "    \n",
    "    if i % 15 == 0:\n",
    "        return 'FizzBuzz'\n",
    "    elif i % 3 == 0: \n",
    "        return 'Fizz'\n",
    "    elif i % 5 == 0: \n",
    "        return 'Buzz'\n",
    "    else:\n",
    "        return str(i)\n",
    "\n",
    "for i in range(1, 101):\n",
    "    print(fizz_buzz_response(i), end='\\t') "
   ]
  },
  {
   "cell_type": "markdown",
   "metadata": {},
   "source": [
    "# one line if else statement implementation"
   ]
  },
  {
   "cell_type": "code",
   "execution_count": 46,
   "metadata": {},
   "outputs": [
    {
     "name": "stdout",
     "output_type": "stream",
     "text": [
      "1\t2\tFizz\t4\tBuzz\tFizz\t7\t8\tFizz\tBuzz\t11\tFizz\t13\t14\tFizzBuzz\t16\t17\tFizz\t19\tBuzz\tFizz\t22\t23\tFizz\tBuzz\t26\tFizz\t28\t29\tFizzBuzz\t31\t32\tFizz\t34\tBuzz\tFizz\t37\t38\tFizz\tBuzz\t41\tFizz\t43\t44\tFizzBuzz\t46\t47\tFizz\t49\tBuzz\tFizz\t52\t53\tFizz\tBuzz\t56\tFizz\t58\t59\tFizzBuzz\t61\t62\tFizz\t64\tBuzz\tFizz\t67\t68\tFizz\tBuzz\t71\tFizz\t73\t74\tFizzBuzz\t76\t77\tFizz\t79\tBuzz\tFizz\t82\t83\tFizz\tBuzz\t86\tFizz\t88\t89\tFizzBuzz\t91\t92\tFizz\t94\tBuzz\tFizz\t97\t98\tFizz\tBuzz\t"
     ]
    }
   ],
   "source": [
    "def fizz_buzz_response(i):\n",
    "    \n",
    "    \"\"\"\n",
    "    if i can be divided by 3 but not by 5, return 'Fizz'\n",
    "    if i can be divided by 5 but not by 3, return 'Buzz'\n",
    "    if i can be divided by both 3 and 5, return 'FizzBuzz'\n",
    "    if i cannot be divided by either 3 or 5, return str(i) \n",
    "    \"\"\"\n",
    "    \n",
    "    return_str = ''\n",
    "    if i%3==0: return_str += 'Fizz'\n",
    "    if i%5==0: return_str += 'Buzz'\n",
    "            \n",
    "    return  return_str if return_str else str(i) \n",
    "\n",
    "\n",
    "for i in range(1, 101):\n",
    "    print(fizz_buzz_response(i), end='\\t') "
   ]
  },
  {
   "cell_type": "code",
   "execution_count": 51,
   "metadata": {},
   "outputs": [
    {
     "name": "stdout",
     "output_type": "stream",
     "text": [
      "1\t2\tFizz\t4\tBuzz\tFizz\t7\t8\tFizz\tBuzz\t11\tFizz\t13\t14\tFizzBuzz\t16\t17\tFizz\t19\tBuzz\tFizz\t22\t23\tFizz\tBuzz\t26\tFizz\t28\t29\tFizzBuzz\t31\t32\tFizz\t34\tBuzz\tFizz\t37\t38\tFizz\tBuzz\t41\tFizz\t43\t44\tFizzBuzz\t46\t47\tFizz\t49\tBuzz\tFizz\t52\t53\tFizz\tBuzz\t56\tFizz\t58\t59\tFizzBuzz\t61\t62\tFizz\t64\tBuzz\tFizz\t67\t68\tFizz\tBuzz\t71\tFizz\t73\t74\tFizzBuzz\t76\t77\tFizz\t79\tBuzz\tFizz\t82\t83\tFizz\tBuzz\t86\tFizz\t88\t89\tFizzBuzz\t91\t92\tFizz\t94\tBuzz\tFizz\t97\t98\tFizz\tBuzz\t"
     ]
    }
   ],
   "source": [
    "def fizz_buzz_response(i):\n",
    "    \n",
    "    \"\"\"\n",
    "    if i can be divided by 3 but not by 5, return 'Fizz'\n",
    "    if i can be divided by 5 but not by 3, return 'Buzz'\n",
    "    if i can be divided by both 3 and 5, return 'FizzBuzz'\n",
    "    if i cannot be divided by either 3 or 5, return str(i) \n",
    "    \"\"\"\n",
    "    \n",
    "    return_str = 'Fizz' * int(i%3==0) + 'Buzz' * int(i%5==0)  \n",
    "            \n",
    "    return  return_str if return_str else str(i) \n",
    "\n",
    "\n",
    "for i in range(1, 101):\n",
    "    print(fizz_buzz_response(i), end='\\t') "
   ]
  },
  {
   "cell_type": "markdown",
   "metadata": {},
   "source": [
    "# one line or statement implementation"
   ]
  },
  {
   "cell_type": "code",
   "execution_count": 54,
   "metadata": {},
   "outputs": [
    {
     "name": "stdout",
     "output_type": "stream",
     "text": [
      "1\t2\tFizz\t4\tBuzz\tFizz\t7\t8\tFizz\tBuzz\t11\tFizz\t13\t14\tFizzBuzz\t16\t17\tFizz\t19\tBuzz\tFizz\t22\t23\tFizz\tBuzz\t26\tFizz\t28\t29\tFizzBuzz\t31\t32\tFizz\t34\tBuzz\tFizz\t37\t38\tFizz\tBuzz\t41\tFizz\t43\t44\tFizzBuzz\t46\t47\tFizz\t49\tBuzz\tFizz\t52\t53\tFizz\tBuzz\t56\tFizz\t58\t59\tFizzBuzz\t61\t62\tFizz\t64\tBuzz\tFizz\t67\t68\tFizz\tBuzz\t71\tFizz\t73\t74\tFizzBuzz\t76\t77\tFizz\t79\tBuzz\tFizz\t82\t83\tFizz\tBuzz\t86\tFizz\t88\t89\tFizzBuzz\t91\t92\tFizz\t94\tBuzz\tFizz\t97\t98\tFizz\tBuzz\t"
     ]
    }
   ],
   "source": [
    "for i in range(1, 101):\n",
    "    print('Fizz'*(i%3==0) + 'Buzz'*(i%5==0) or str(i), end='\\t') "
   ]
  },
  {
   "cell_type": "code",
   "execution_count": 55,
   "metadata": {},
   "outputs": [
    {
     "name": "stdout",
     "output_type": "stream",
     "text": [
      "1\t2\tFizz\t4\tBuzz\tFizz\t7\t8\tFizz\tBuzz\t11\tFizz\t13\t14\tFizzBuzz\t16\t17\tFizz\t19\tBuzz\tFizz\t22\t23\tFizz\tBuzz\t26\tFizz\t28\t29\tFizzBuzz\t31\t32\tFizz\t34\tBuzz\tFizz\t37\t38\tFizz\tBuzz\t41\tFizz\t43\t44\tFizzBuzz\t46\t47\tFizz\t49\tBuzz\tFizz\t52\t53\tFizz\tBuzz\t56\tFizz\t58\t59\tFizzBuzz\t61\t62\tFizz\t64\tBuzz\tFizz\t67\t68\tFizz\tBuzz\t71\tFizz\t73\t74\tFizzBuzz\t76\t77\tFizz\t79\tBuzz\tFizz\t82\t83\tFizz\tBuzz\t86\tFizz\t88\t89\tFizzBuzz\t91\t92\tFizz\t94\tBuzz\tFizz\t97\t98\tFizz\tBuzz\t"
     ]
    }
   ],
   "source": [
    "def fizz_buzz_response(i):\n",
    "    \n",
    "    \"\"\"\n",
    "    if i can be divided by 3 but not by 5, return 'Fizz'\n",
    "    if i can be divided by 5 but not by 3, return 'Buzz'\n",
    "    if i can be divided by both 3 and 5, return 'FizzBuzz'\n",
    "    if i cannot be divided by either 3 or 5, return str(i) \n",
    "    \"\"\"\n",
    "    \n",
    "    return 'Fizz'*(i%3==0) + 'Buzz'*(i%5==0) or str(i)\n",
    "\n",
    "for i in range(1, 101):\n",
    "    print(fizz_buzz_response(i), end='\\t') "
   ]
  },
  {
   "cell_type": "markdown",
   "metadata": {},
   "source": [
    "# why?"
   ]
  },
  {
   "cell_type": "markdown",
   "metadata": {},
   "source": [
    "First of all, everything in python is an object. Therefore, your 0 is also an object, specifically, a built-in object.\n",
    "\n",
    "Here are the built-in objects considered as false:\n",
    "\n",
    "    constants defined to be false: None and False.\n",
    "    zero of any numeric type: 0, 0.0, 0j, Decimal(0), Fraction(0, 1)\n",
    "    empty sequences and collections: '', (), [], {}, set(), range(0)\n",
    "\n",
    "[stackoverflow](https://stackoverflow.com/questions/12497199/python-evaluates-0-as-false)"
   ]
  },
  {
   "cell_type": "markdown",
   "metadata": {},
   "source": [
    "$$\\begin{array}{ccccccc}\n",
    "a&=&\\mbox{True-Or-False-Expression}&\\mbox{or}&\\mbox{Alternative-Expression}\\\\\n",
    "\\\\\n",
    "a&=&\\mbox{True-Or-False-Expression}&\\mbox{}&\\mbox{}&\\mbox{if}&\\mbox{True-Or-False-Expression is True}\\\\\n",
    "\\\\\n",
    "a&=&\\mbox{}&\\mbox{}&\\mbox{Alternative-Expression}&\\mbox{if}&\\mbox{True-Or-False-Expression is False}\\\\\n",
    "\\end{array}$$"
   ]
  },
  {
   "cell_type": "code",
   "execution_count": 60,
   "metadata": {},
   "outputs": [
    {
     "name": "stdout",
     "output_type": "stream",
     "text": [
      "Hello\n",
      "5\n",
      "\n"
     ]
    }
   ],
   "source": [
    "# print(True or 5)              # True ---> True\n",
    "# print(False or 5, end='\\n\\n') # False ---> 5\n",
    "\n",
    "# print(\"Hello\" or 5)           # True ---> Hello\n",
    "# print(None or 5, end='\\n\\n')  # False ---> 5\n",
    "\n",
    "# print(1 or 5)                 # True ---> 1\n",
    "# print(0 or 5, end='\\n\\n')     # False ---> 5\n",
    "\n",
    "# print(1. or 5)                # True ---> 1.\n",
    "# print(0. or 5, end='\\n\\n')    # False ---> 5\n",
    "\n",
    "print(\"Hello\" or 5)           # True ---> Hello\n",
    "print(\"\" or 5, end='\\n\\n')    # False ---> 5"
   ]
  },
  {
   "cell_type": "markdown",
   "metadata": {},
   "source": [
    "# Reference\n",
    "\n",
    "[Are you clever enough to solve fizzbuzz in one line?](https://www.youtube.com/watch?v=jV0yhde5xY8)"
   ]
  },
  {
   "cell_type": "code",
   "execution_count": null,
   "metadata": {},
   "outputs": [],
   "source": []
  }
 ],
 "metadata": {
  "kernelspec": {
   "display_name": "Python 3",
   "language": "python",
   "name": "python3"
  },
  "language_info": {
   "codemirror_mode": {
    "name": "ipython",
    "version": 3
   },
   "file_extension": ".py",
   "mimetype": "text/x-python",
   "name": "python",
   "nbconvert_exporter": "python",
   "pygments_lexer": "ipython3",
   "version": "3.7.7"
  }
 },
 "nbformat": 4,
 "nbformat_minor": 4
}
