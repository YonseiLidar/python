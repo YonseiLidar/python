{
 "cells": [
  {
   "cell_type": "markdown",
   "metadata": {},
   "source": [
    "##### mutable 객체: list, dict, set\n",
    "\n",
    "##### immutable 객체: 숫자, 문자, 튜플"
   ]
  },
  {
   "cell_type": "code",
   "execution_count": 3,
   "metadata": {},
   "outputs": [
    {
     "name": "stdout",
     "output_type": "stream",
     "text": [
      "set() 4555411976\n",
      "{0, 1, 2, 3, 4, 5, 6, 7, 8, 9} 4555411976\n"
     ]
    }
   ],
   "source": [
    "# mutable 객체: list, dict, set\n",
    "\n",
    "if 0: \n",
    "    # generate empty list\n",
    "    x = []\n",
    "    print(x, id(x))\n",
    "    \n",
    "    # modify list\n",
    "    for i in range(10):\n",
    "        x.append(i)\n",
    "elif 0:\n",
    "    # generate empty dict\n",
    "    x = dict()\n",
    "    print(x, id(x))\n",
    "    \n",
    "    # modify dict\n",
    "    x['cat'] = 10\n",
    "    x['dog'] = 5\n",
    "elif 1:\n",
    "    # generate empty set\n",
    "    x = set()\n",
    "    print(x, id(x))\n",
    "    \n",
    "    # modify set\n",
    "    for i in range(10):\n",
    "        x.add(i)\n",
    "    \n",
    "print(x, id(x))"
   ]
  },
  {
   "cell_type": "code",
   "execution_count": 6,
   "metadata": {},
   "outputs": [
    {
     "name": "stdout",
     "output_type": "stream",
     "text": [
      "(1, 2, 3) 4559451048\n",
      "(1, 2) 4559554504\n"
     ]
    }
   ],
   "source": [
    "# immutable 객체: 숫자형, 문자, 튜플\n",
    "\n",
    "if 0: \n",
    "    # generate int\n",
    "    x = 3\n",
    "    print(x, id(x))\n",
    "    \n",
    "    # generate int\n",
    "    x = 7\n",
    "elif 0:\n",
    "    # generate str\n",
    "    x = 'cat'\n",
    "    print(x, id(x))\n",
    "    \n",
    "    # generate str\n",
    "    x = 'dog'\n",
    "elif 1:\n",
    "    # generate tuple\n",
    "    x = (1,2,3)\n",
    "    print(x, id(x))\n",
    "    \n",
    "    # generate tuple\n",
    "    x = (1,2)\n",
    "    \n",
    "print(x, id(x))"
   ]
  },
  {
   "cell_type": "code",
   "execution_count": null,
   "metadata": {},
   "outputs": [],
   "source": []
  }
 ],
 "metadata": {
  "kernelspec": {
   "display_name": "Python 3",
   "language": "python",
   "name": "python3"
  },
  "language_info": {
   "codemirror_mode": {
    "name": "ipython",
    "version": 3
   },
   "file_extension": ".py",
   "mimetype": "text/x-python",
   "name": "python",
   "nbconvert_exporter": "python",
   "pygments_lexer": "ipython3",
   "version": "3.7.3"
  }
 },
 "nbformat": 4,
 "nbformat_minor": 2
}
