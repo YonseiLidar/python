{
 "cells": [
  {
   "cell_type": "markdown",
   "metadata": {},
   "source": [
    "# Basic Data Type (int, float, complex, str, bool, None) - immutable"
   ]
  },
  {
   "cell_type": "code",
   "execution_count": 10,
   "metadata": {},
   "outputs": [
    {
     "name": "stdout",
     "output_type": "stream",
     "text": [
      "True\n",
      "True\n",
      "4344616352\n",
      "4344616352\n"
     ]
    }
   ],
   "source": [
    "a = 10 # intern\n",
    "b = 10 # intern\n",
    "print(a == b)\n",
    "print(a is b)\n",
    "print(id(a))\n",
    "print(id(b))"
   ]
  },
  {
   "cell_type": "code",
   "execution_count": 29,
   "metadata": {},
   "outputs": [
    {
     "name": "stdout",
     "output_type": "stream",
     "text": [
      "True\n",
      "False\n",
      "140401412303888\n",
      "140401412304176\n"
     ]
    }
   ],
   "source": [
    "a = 257 # no intern\n",
    "b = 257 # no intern\n",
    "print(a == b)\n",
    "print(a is b)\n",
    "print(id(a))\n",
    "print(id(b))"
   ]
  },
  {
   "cell_type": "code",
   "execution_count": 34,
   "metadata": {},
   "outputs": [
    {
     "name": "stdout",
     "output_type": "stream",
     "text": [
      "True\n",
      "True\n",
      "140401552034160\n",
      "140401552034160\n"
     ]
    }
   ],
   "source": [
    "a = 'hello' # intern\n",
    "b = 'hello' # intern\n",
    "print(a == b)\n",
    "print(a is b)\n",
    "print(id(a))\n",
    "print(id(b))"
   ]
  },
  {
   "cell_type": "code",
   "execution_count": 35,
   "metadata": {},
   "outputs": [
    {
     "name": "stdout",
     "output_type": "stream",
     "text": [
      "True\n",
      "False\n",
      "140401551988528\n",
      "140401551987504\n"
     ]
    }
   ],
   "source": [
    "a = 'hello!' # no intern\n",
    "b = 'hello!' # no intern\n",
    "print(a == b)\n",
    "print(a is b)\n",
    "print(id(a))\n",
    "print(id(b))"
   ]
  },
  {
   "cell_type": "code",
   "execution_count": 9,
   "metadata": {},
   "outputs": [
    {
     "name": "stdout",
     "output_type": "stream",
     "text": [
      "'str' object does not support item assignment\n"
     ]
    }
   ],
   "source": [
    "try:\n",
    "    a = 'hello!' \n",
    "    a[0] = 'H' # strings are immutable\n",
    "except TypeError as e:\n",
    "    print(e)"
   ]
  },
  {
   "cell_type": "code",
   "execution_count": 36,
   "metadata": {},
   "outputs": [
    {
     "name": "stdout",
     "output_type": "stream",
     "text": [
      "True\n",
      "True\n"
     ]
    }
   ],
   "source": [
    "a = True # intern\n",
    "b = True # intern\n",
    "print(a == b)\n",
    "print(a is b)"
   ]
  },
  {
   "cell_type": "code",
   "execution_count": 37,
   "metadata": {},
   "outputs": [
    {
     "name": "stdout",
     "output_type": "stream",
     "text": [
      "True\n",
      "True\n"
     ]
    }
   ],
   "source": [
    "a = None # intern\n",
    "b = None # intern\n",
    "print(a == b)\n",
    "print(a is b)"
   ]
  },
  {
   "cell_type": "markdown",
   "metadata": {},
   "source": [
    "# Container: tuple, frozenset - immutable"
   ]
  },
  {
   "cell_type": "code",
   "execution_count": 4,
   "metadata": {},
   "outputs": [
    {
     "name": "stdout",
     "output_type": "stream",
     "text": [
      "'tuple' object does not support item assignment\n"
     ]
    }
   ],
   "source": [
    "try:\n",
    "    a = (1, 2, 3)\n",
    "    a[0] = 10 # tuples are immutable\n",
    "except TypeError as e:\n",
    "    print(e)"
   ]
  },
  {
   "cell_type": "code",
   "execution_count": 5,
   "metadata": {},
   "outputs": [
    {
     "name": "stdout",
     "output_type": "stream",
     "text": [
      "'frozenset' object has no attribute 'add'\n"
     ]
    }
   ],
   "source": [
    "try:\n",
    "    a = frozenset([1,2,3,1,2,3,1,2])\n",
    "    a.add('v') # frozensets are immutable\n",
    "except AttributeError as e:\n",
    "    print(e)"
   ]
  },
  {
   "cell_type": "markdown",
   "metadata": {},
   "source": [
    "# Container: list, dict, set - mutable"
   ]
  },
  {
   "cell_type": "code",
   "execution_count": 1,
   "metadata": {},
   "outputs": [
    {
     "name": "stdout",
     "output_type": "stream",
     "text": [
      "a : [1, 2, 3], 아이덴티티 : 140401551890464\n",
      "a : [1, 2, 3, 4], 아이덴티티 : 140401551890464\n"
     ]
    }
   ],
   "source": [
    "a = [1, 2, 3]\n",
    "print(f'a : {a}, 아이덴티티 : {id(a)}')\n",
    "a.append(4)\n",
    "print(f'a : {a}, 아이덴티티 : {id(a)}')"
   ]
  },
  {
   "cell_type": "code",
   "execution_count": 2,
   "metadata": {},
   "outputs": [
    {
     "name": "stdout",
     "output_type": "stream",
     "text": [
      "a : {'one': 1, 'two': 2}, 아이덴티티 : 140401412284976\n",
      "a : {'one': 1, 'two': 2, 'three': 3}, 아이덴티티 : 140401412284976\n"
     ]
    }
   ],
   "source": [
    "a = {'one' : 1, 'two' : 2}\n",
    "print(f'a : {a}, 아이덴티티 : {id(a)}')\n",
    "a['three'] = 3\n",
    "print(f'a : {a}, 아이덴티티 : {id(a)}')"
   ]
  },
  {
   "cell_type": "code",
   "execution_count": 3,
   "metadata": {},
   "outputs": [
    {
     "name": "stdout",
     "output_type": "stream",
     "text": [
      "a : {1, 2, 3}, 아이덴티티 : 140401412432672\n",
      "a : {1, 2, 3, 4}, 아이덴티티 : 140401412432672\n"
     ]
    }
   ],
   "source": [
    "a = {1,2,3,1,2,3}\n",
    "print(f'a : {a}, 아이덴티티 : {id(a)}')\n",
    "a.add(4)\n",
    "print(f'a : {a}, 아이덴티티 : {id(a)}')"
   ]
  },
  {
   "cell_type": "markdown",
   "metadata": {},
   "source": [
    "# tuple is immutable, but items in tuple can be mutable "
   ]
  },
  {
   "cell_type": "code",
   "execution_count": 17,
   "metadata": {},
   "outputs": [
    {
     "name": "stdout",
     "output_type": "stream",
     "text": [
      "'tuple' object does not support item assignment\n"
     ]
    }
   ],
   "source": [
    "a = (1, [1, 2, 3], 'Hello')\n",
    "try:\n",
    "    a[1] = 'Hi'\n",
    "except TypeError as e:\n",
    "    print(e)"
   ]
  },
  {
   "cell_type": "code",
   "execution_count": 15,
   "metadata": {},
   "outputs": [
    {
     "name": "stdout",
     "output_type": "stream",
     "text": [
      "(1, [1, 2, 3], 'Hello')\n",
      "--------------------------------------------------\n",
      "(1, ['one', 2, 3], 'Hello')\n"
     ]
    }
   ],
   "source": [
    "a = (1, [1, 2, 3], 'Hello')\n",
    "print(a)\n",
    "print('-'*50)\n",
    "\n",
    "a[1][0] = 'one'\n",
    "print(a)"
   ]
  }
 ],
 "metadata": {
  "kernelspec": {
   "display_name": "Python 3",
   "language": "python",
   "name": "python3"
  },
  "language_info": {
   "codemirror_mode": {
    "name": "ipython",
    "version": 3
   },
   "file_extension": ".py",
   "mimetype": "text/x-python",
   "name": "python",
   "nbconvert_exporter": "python",
   "pygments_lexer": "ipython3",
   "version": "3.7.7"
  }
 },
 "nbformat": 4,
 "nbformat_minor": 4
}
