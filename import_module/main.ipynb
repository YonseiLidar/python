{
 "cells": [
  {
   "cell_type": "markdown",
   "metadata": {},
   "source": [
    "# import ... 폴더와 파일을 임포트함"
   ]
  },
  {
   "cell_type": "code",
   "execution_count": 9,
   "metadata": {},
   "outputs": [],
   "source": [
    "import package_1 # 폴더\n",
    "import package_2 # 폴더\n",
    "import package_1.sub_package_1 # 폴더\n",
    "import package_1.sub_package_2 # 폴더\n",
    "import module_1 # 파이썬 파일 .py\n",
    "import module_2 # 파이썬 파일 .py\n",
    "import package_1.module_3 # 파이썬 파일 .py \n",
    "import package_1.module_4 # 파이썬 파일 .py\n",
    "import package_1.sub_package_1.module_5 # 파이썬 파일 .py\n",
    "import package_1.sub_package_1.module_6 # 파이썬 파일 .py\n",
    "import package_1.sub_package_2.module_7 # 파이썬 파일 .py\n",
    "import package_1.sub_package_2.module_8 # 파이썬 파일 .py\n",
    "import package_2.module_9 # 파이썬 파일 .py \n",
    "import package_2.module_10 # 파이썬 파일 .py"
   ]
  },
  {
   "cell_type": "code",
   "execution_count": 27,
   "metadata": {},
   "outputs": [
    {
     "ename": "ModuleNotFoundError",
     "evalue": "No module named 'package_1.var'",
     "output_type": "error",
     "traceback": [
      "\u001b[0;31m---------------------------------------------------------------------------\u001b[0m",
      "\u001b[0;31mModuleNotFoundError\u001b[0m                       Traceback (most recent call last)",
      "\u001b[0;32m<ipython-input-27-4cb14c603cc1>\u001b[0m in \u001b[0;36m<module>\u001b[0;34m\u001b[0m\n\u001b[1;32m      1\u001b[0m \u001b[0;31m#import package_1.Student\u001b[0m\u001b[0;34m\u001b[0m\u001b[0;34m\u001b[0m\u001b[0;34m\u001b[0m\u001b[0m\n\u001b[1;32m      2\u001b[0m \u001b[0;31m#import package_1.f\u001b[0m\u001b[0;34m\u001b[0m\u001b[0;34m\u001b[0m\u001b[0;34m\u001b[0m\u001b[0m\n\u001b[0;32m----> 3\u001b[0;31m \u001b[0;32mimport\u001b[0m \u001b[0mpackage_1\u001b[0m\u001b[0;34m.\u001b[0m\u001b[0mvar\u001b[0m\u001b[0;34m\u001b[0m\u001b[0;34m\u001b[0m\u001b[0m\n\u001b[0m",
      "\u001b[0;31mModuleNotFoundError\u001b[0m: No module named 'package_1.var'"
     ]
    }
   ],
   "source": [
    "# import package_1.Student # 에러\n",
    "# import package_1.f # 에러\n",
    "# import package_1.var # 에러"
   ]
  },
  {
   "cell_type": "markdown",
   "metadata": {},
   "source": [
    "# from ... import ... 폴더, 파일, 클래스, 함수, 변수 임포트함"
   ]
  },
  {
   "cell_type": "code",
   "execution_count": 28,
   "metadata": {},
   "outputs": [
    {
     "name": "stdout",
     "output_type": "stream",
     "text": [
      "Student Class Activated\n",
      "<package_1.sub_package_1.module_5.Student object at 0x7fd6c0653990>\n",
      "Student Class Activated\n",
      "<package_1.sub_package_1.module_6.Student object at 0x7fd6c066f5d0>\n",
      "Student Class Activated\n",
      "<package_1.sub_package_2.module_7.Student object at 0x7fd6c066f110>\n",
      "Student Class Activated\n",
      "<package_1.sub_package_2.module_8.Student object at 0x7fd6c066f5d0>\n"
     ]
    }
   ],
   "source": [
    "from package_1 import sub_package_1 # 폴더\n",
    "from package_1 import sub_package_2 # 폴더\n",
    "\n",
    "print(sub_package_1.module_5.Student())\n",
    "print(sub_package_1.module_6.Student())\n",
    "print(sub_package_2.module_7.Student())\n",
    "print(sub_package_2.module_8.Student())"
   ]
  },
  {
   "cell_type": "code",
   "execution_count": 19,
   "metadata": {},
   "outputs": [
    {
     "name": "stdout",
     "output_type": "stream",
     "text": [
      "module_1.py is imported!\n",
      "module_2.py is imported!\n",
      "module_3.py is imported!\n",
      "module_4.py is imported!\n",
      "module_5.py is imported!\n",
      "module_6.py is imported!\n",
      "module_7.py is imported!\n",
      "module_8.py is imported!\n",
      "module_9.py is imported!\n",
      "module_10.py is imported!\n"
     ]
    }
   ],
   "source": [
    "import module_1 # 파일   \n",
    "import module_2 # 파일 \n",
    "from package_1 import module_3 # 파일 \n",
    "from package_1 import module_4 # 파일 \n",
    "from package_1.sub_package_1 import module_5 # 파일 \n",
    "from package_1.sub_package_1 import module_6 # 파일 \n",
    "from package_1.sub_package_2 import module_7 # 파일 \n",
    "from package_1.sub_package_2 import module_8 # 파일 \n",
    "from package_2 import module_9 # 파일 \n",
    "from package_2 import module_10 # 파일\n",
    "\n",
    "print(module_1.var)\n",
    "print(module_2.var)\n",
    "print(module_3.var)\n",
    "print(module_4.var)\n",
    "print(module_5.var)\n",
    "print(module_6.var)\n",
    "print(module_7.var)\n",
    "print(module_8.var)\n",
    "print(module_9.var)\n",
    "print(module_10.var)"
   ]
  },
  {
   "cell_type": "code",
   "execution_count": 20,
   "metadata": {},
   "outputs": [
    {
     "name": "stdout",
     "output_type": "stream",
     "text": [
      "Funstion f is Activated\n",
      "2\n",
      "Funstion f is Activated\n",
      "2\n",
      "Funstion f is Activated\n",
      "2\n",
      "Funstion f is Activated\n",
      "2\n",
      "Funstion f is Activated\n",
      "2\n",
      "Funstion f is Activated\n",
      "2\n",
      "Funstion f is Activated\n",
      "2\n",
      "Funstion f is Activated\n",
      "2\n",
      "Funstion f is Activated\n",
      "2\n",
      "Funstion f is Activated\n",
      "2\n"
     ]
    }
   ],
   "source": [
    "import module_1   \n",
    "import module_2 \n",
    "from package_1 import module_3 \n",
    "from package_1 import module_4 \n",
    "from package_1.sub_package_1 import module_5 \n",
    "from package_1.sub_package_1 import module_6 \n",
    "from package_1.sub_package_2 import module_7 \n",
    "from package_1.sub_package_2 import module_8 \n",
    "from package_2 import module_9 \n",
    "from package_2 import module_10\n",
    "\n",
    "print(module_1.f(1, 1))\n",
    "print(module_2.f(1, 1))\n",
    "print(module_3.f(1, 1))\n",
    "print(module_4.f(1, 1))\n",
    "print(module_5.f(1, 1))\n",
    "print(module_6.f(1, 1))\n",
    "print(module_7.f(1, 1))\n",
    "print(module_8.f(1, 1))\n",
    "print(module_9.f(1, 1))\n",
    "print(module_10.f(1, 1))"
   ]
  },
  {
   "cell_type": "code",
   "execution_count": 22,
   "metadata": {},
   "outputs": [
    {
     "name": "stdout",
     "output_type": "stream",
     "text": [
      "Student Class Activated\n",
      "<module_1.Student object at 0x7fd6c0653250>\n",
      "Student Class Activated\n",
      "<module_2.Student object at 0x7fd6a05fcfd0>\n",
      "Student Class Activated\n",
      "<package_1.module_3.Student object at 0x7fd6c0653250>\n",
      "Student Class Activated\n",
      "<package_1.module_4.Student object at 0x7fd6a05fcfd0>\n",
      "Student Class Activated\n",
      "<package_1.sub_package_1.module_5.Student object at 0x7fd6c0653250>\n",
      "Student Class Activated\n",
      "<package_1.sub_package_1.module_6.Student object at 0x7fd6a05fcfd0>\n",
      "Student Class Activated\n",
      "<package_1.sub_package_2.module_7.Student object at 0x7fd6c0653250>\n",
      "Student Class Activated\n",
      "<package_1.sub_package_2.module_8.Student object at 0x7fd6a05fcfd0>\n",
      "Student Class Activated\n",
      "<package_2.module_9.Student object at 0x7fd6c0653250>\n",
      "Student Class Activated\n",
      "<package_2.module_10.Student object at 0x7fd6a05fcfd0>\n"
     ]
    }
   ],
   "source": [
    "import module_1   \n",
    "import module_2 \n",
    "from package_1 import module_3 \n",
    "from package_1 import module_4 \n",
    "from package_1.sub_package_1 import module_5 \n",
    "from package_1.sub_package_1 import module_6 \n",
    "from package_1.sub_package_2 import module_7 \n",
    "from package_1.sub_package_2 import module_8 \n",
    "from package_2 import module_9 \n",
    "from package_2 import module_10\n",
    "\n",
    "print(module_1.Student())\n",
    "print(module_2.Student())\n",
    "print(module_3.Student())\n",
    "print(module_4.Student())\n",
    "print(module_5.Student())\n",
    "print(module_6.Student())\n",
    "print(module_7.Student())\n",
    "print(module_8.Student())\n",
    "print(module_9.Student())\n",
    "print(module_10.Student())"
   ]
  },
  {
   "cell_type": "code",
   "execution_count": 10,
   "metadata": {},
   "outputs": [
    {
     "name": "stdout",
     "output_type": "stream",
     "text": [
      "module_9.py is imported!\n",
      "module_10.py is imported!\n",
      "Student Class Activated\n"
     ]
    }
   ],
   "source": [
    "from module_1 import Student # 클래스 \n",
    "from module_2 import Student # 클래스\n",
    "from package_1.module_3 import Student # 클래스\n",
    "from package_1.module_4 import Student # 클래스\n",
    "from package_1.sub_package_1.module_5 import Student # 클래스\n",
    "from package_1.sub_package_1.module_6 import Student # 클래스\n",
    "from package_1.sub_package_2.module_7 import Student # 클래스\n",
    "from package_1.sub_package_2.module_8 import Student # 클래스\n",
    "from package_2.module_9 import Student # 클래스\n",
    "from package_2.module_10 import Student # 클래스\n",
    "a = Student()"
   ]
  },
  {
   "cell_type": "code",
   "execution_count": 13,
   "metadata": {},
   "outputs": [
    {
     "name": "stdout",
     "output_type": "stream",
     "text": [
      "Funstion f is Activated\n",
      "2\n"
     ]
    }
   ],
   "source": [
    "from module_1 import f # 함수 \n",
    "from module_2 import f # 함수\n",
    "from package_1.module_3 import f # 함수\n",
    "from package_1.module_4 import f # 함수\n",
    "from package_1.sub_package_1.module_5 import f # 함수\n",
    "from package_1.sub_package_1.module_6 import f # 함수\n",
    "from package_1.sub_package_2.module_7 import f # 함수\n",
    "from package_1.sub_package_2.module_8 import f # 함수\n",
    "from package_2.module_9 import f # 함수\n",
    "from package_2.module_10 import f # 함수\n",
    "print(f(1, 1))"
   ]
  },
  {
   "cell_type": "code",
   "execution_count": 15,
   "metadata": {},
   "outputs": [
    {
     "name": "stdout",
     "output_type": "stream",
     "text": [
      "module_3.py is imported!\n"
     ]
    }
   ],
   "source": [
    "from module_1 import var # 변수 \n",
    "from module_2 import var # 변수\n",
    "from package_1.module_3 import var # 변수\n",
    "from package_1.module_4 import var # 변수\n",
    "from package_1.sub_package_1.module_5 import var # 변수\n",
    "from package_1.sub_package_1.module_6 import var # 변수\n",
    "from package_1.sub_package_2.module_7 import var # 변수\n",
    "from package_1.sub_package_2.module_8 import var # 변수\n",
    "from package_2.module_9 import var # 변수\n",
    "from package_2.module_10 import var # 변수\n",
    "print(var)"
   ]
  },
  {
   "cell_type": "markdown",
   "metadata": {},
   "source": [
    "# 보기"
   ]
  },
  {
   "cell_type": "code",
   "execution_count": 29,
   "metadata": {},
   "outputs": [],
   "source": [
    "import numpy # 패키지 (모듈들이 들어있는 파일)\n",
    "import pandas # 패키지 (모듈들이 들어있는 파일)\n",
    "import matplotlib.pyplot # 패키지 (모듈들이 들어있는 파일)\n",
    "\n",
    "from sklearn.linear_model import LinearRegression # 클래스"
   ]
  },
  {
   "cell_type": "code",
   "execution_count": 32,
   "metadata": {},
   "outputs": [
    {
     "name": "stdout",
     "output_type": "stream",
     "text": [
      "[[1 2 3]]\n"
     ]
    }
   ],
   "source": [
    "import numpy \n",
    "a = numpy.array([[1,2,3]])\n",
    "print(a)"
   ]
  },
  {
   "cell_type": "code",
   "execution_count": 1,
   "metadata": {},
   "outputs": [
    {
     "ename": "NameError",
     "evalue": "name 'numpy' is not defined",
     "output_type": "error",
     "traceback": [
      "\u001b[0;31m---------------------------------------------------------------------------\u001b[0m",
      "\u001b[0;31mNameError\u001b[0m                                 Traceback (most recent call last)",
      "\u001b[0;32m<ipython-input-1-55eca06d208a>\u001b[0m in \u001b[0;36m<module>\u001b[0;34m\u001b[0m\n\u001b[1;32m      1\u001b[0m \u001b[0;32mimport\u001b[0m \u001b[0mnumpy\u001b[0m \u001b[0;32mas\u001b[0m \u001b[0mnp\u001b[0m\u001b[0;34m\u001b[0m\u001b[0;34m\u001b[0m\u001b[0m\n\u001b[0;32m----> 2\u001b[0;31m \u001b[0ma\u001b[0m \u001b[0;34m=\u001b[0m \u001b[0mnumpy\u001b[0m\u001b[0;34m.\u001b[0m\u001b[0marray\u001b[0m\u001b[0;34m(\u001b[0m\u001b[0;34m[\u001b[0m\u001b[0;34m[\u001b[0m\u001b[0;36m1\u001b[0m\u001b[0;34m,\u001b[0m\u001b[0;36m2\u001b[0m\u001b[0;34m,\u001b[0m\u001b[0;36m3\u001b[0m\u001b[0;34m]\u001b[0m\u001b[0;34m]\u001b[0m\u001b[0;34m)\u001b[0m\u001b[0;34m\u001b[0m\u001b[0;34m\u001b[0m\u001b[0m\n\u001b[0m\u001b[1;32m      3\u001b[0m \u001b[0mprint\u001b[0m\u001b[0;34m(\u001b[0m\u001b[0ma\u001b[0m\u001b[0;34m)\u001b[0m\u001b[0;34m\u001b[0m\u001b[0;34m\u001b[0m\u001b[0m\n",
      "\u001b[0;31mNameError\u001b[0m: name 'numpy' is not defined"
     ]
    }
   ],
   "source": [
    "import numpy as np \n",
    "a = numpy.array([[1,2,3]])\n",
    "print(a)"
   ]
  },
  {
   "cell_type": "code",
   "execution_count": 2,
   "metadata": {},
   "outputs": [
    {
     "name": "stdout",
     "output_type": "stream",
     "text": [
      "[[1 2 3]]\n"
     ]
    }
   ],
   "source": [
    "import numpy as np \n",
    "a = np.array([[1,2,3]])\n",
    "print(a)"
   ]
  },
  {
   "cell_type": "code",
   "execution_count": null,
   "metadata": {},
   "outputs": [],
   "source": [
    "import numpy as np\n",
    "import pandas as pd\n",
    "import matplotlib.pyplot as plt\n",
    "\n",
    "from sklearn.linear_model import LinearRegression "
   ]
  },
  {
   "cell_type": "markdown",
   "metadata": {},
   "source": [
    "# 시스템 패스"
   ]
  },
  {
   "cell_type": "code",
   "execution_count": 5,
   "metadata": {},
   "outputs": [
    {
     "ename": "ModuleNotFoundError",
     "evalue": "No module named 'module_1'",
     "output_type": "error",
     "traceback": [
      "\u001b[0;31m---------------------------------------------------------------------------\u001b[0m",
      "\u001b[0;31mModuleNotFoundError\u001b[0m                       Traceback (most recent call last)",
      "\u001b[0;32m<ipython-input-5-0b7f5fa50ce0>\u001b[0m in \u001b[0;36m<module>\u001b[0;34m\u001b[0m\n\u001b[0;32m----> 1\u001b[0;31m \u001b[0;32mimport\u001b[0m \u001b[0mmodule_1\u001b[0m\u001b[0;34m\u001b[0m\u001b[0;34m\u001b[0m\u001b[0m\n\u001b[0m",
      "\u001b[0;31mModuleNotFoundError\u001b[0m: No module named 'module_1'"
     ]
    }
   ],
   "source": [
    "import module_1"
   ]
  },
  {
   "cell_type": "code",
   "execution_count": 10,
   "metadata": {},
   "outputs": [
    {
     "name": "stdout",
     "output_type": "stream",
     "text": [
      "<class 'list'>\n",
      "['/Users/sungchullee/Dropbox/import_module', '/Users/sungchullee/anaconda3/lib/python37.zip', '/Users/sungchullee/anaconda3/lib/python3.7', '/Users/sungchullee/anaconda3/lib/python3.7/lib-dynload', '', '/Users/sungchullee/.local/lib/python3.7/site-packages', '/Users/sungchullee/anaconda3/lib/python3.7/site-packages', '/Users/sungchullee/anaconda3/lib/python3.7/site-packages/aeosa', '/Users/sungchullee/anaconda3/lib/python3.7/site-packages/memory_profiler-0.57.0-py3.7.egg', '/Users/sungchullee/anaconda3/lib/python3.7/site-packages/IPython/extensions', '/Users/sungchullee/.ipython', '/Users/sungchullee/Desktop']\n"
     ]
    }
   ],
   "source": [
    "import sys\n",
    "sys.path.append('/Users/sungchullee/Desktop')\n",
    "print(type(sys.path))\n",
    "print(sys.path)"
   ]
  },
  {
   "cell_type": "code",
   "execution_count": 11,
   "metadata": {},
   "outputs": [
    {
     "name": "stdout",
     "output_type": "stream",
     "text": [
      "module_1.py is imported!\n"
     ]
    }
   ],
   "source": [
    "import module_1"
   ]
  },
  {
   "cell_type": "code",
   "execution_count": null,
   "metadata": {},
   "outputs": [],
   "source": []
  }
 ],
 "metadata": {
  "kernelspec": {
   "display_name": "Python 3",
   "language": "python",
   "name": "python3"
  },
  "language_info": {
   "codemirror_mode": {
    "name": "ipython",
    "version": 3
   },
   "file_extension": ".py",
   "mimetype": "text/x-python",
   "name": "python",
   "nbconvert_exporter": "python",
   "pygments_lexer": "ipython3",
   "version": "3.7.7"
  }
 },
 "nbformat": 4,
 "nbformat_minor": 4
}
