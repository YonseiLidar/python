{
 "cells": [
  {
   "cell_type": "markdown",
   "metadata": {},
   "source": [
    "# iterator vs iterable"
   ]
  },
  {
   "cell_type": "markdown",
   "metadata": {},
   "source": [
    "iterator : for loop 돌리는 것이 가능하게 하는 오브젝트. `__iter__` 와 `__next__` 가 있는 오브젝트. \n",
    "    \n",
    "iterable : `__iter__` 를 통하여 iterator로 변환할 수 있는 오브젝트."
   ]
  },
  {
   "cell_type": "code",
   "execution_count": 46,
   "metadata": {},
   "outputs": [
    {
     "name": "stdout",
     "output_type": "stream",
     "text": [
      "0\t1\t2\t3\t4\t5\t6\t"
     ]
    }
   ],
   "source": [
    "for i in range(7):\n",
    "    print(i, end='\\t')"
   ]
  },
  {
   "cell_type": "code",
   "execution_count": 63,
   "metadata": {},
   "outputs": [
    {
     "name": "stdout",
     "output_type": "stream",
     "text": [
      "0\t1\t2\t3\t4\t5\t6\t"
     ]
    }
   ],
   "source": [
    "for i in range(7).__iter__():\n",
    "    print(i, end='\\t')"
   ]
  },
  {
   "cell_type": "code",
   "execution_count": 62,
   "metadata": {},
   "outputs": [
    {
     "name": "stdout",
     "output_type": "stream",
     "text": [
      "['__class__', '__delattr__', '__dir__', '__doc__', '__eq__', '__format__', '__ge__', '__getattribute__', '__gt__', '__hash__', '__init__', '__init_subclass__', '__iter__', '__le__', '__length_hint__', '__lt__', '__ne__', '__new__', '__next__', '__reduce__', '__reduce_ex__', '__repr__', '__setattr__', '__setstate__', '__sizeof__', '__str__', '__subclasshook__']\n"
     ]
    }
   ],
   "source": [
    "print(dir(range(7).__iter__()))"
   ]
  },
  {
   "cell_type": "code",
   "execution_count": 47,
   "metadata": {},
   "outputs": [
    {
     "name": "stdout",
     "output_type": "stream",
     "text": [
      "1\t2\t3\t4\t5\t6\t"
     ]
    }
   ],
   "source": [
    "for i in range(1, 7):\n",
    "    print(i, end='\\t')"
   ]
  },
  {
   "cell_type": "code",
   "execution_count": 48,
   "metadata": {},
   "outputs": [
    {
     "name": "stdout",
     "output_type": "stream",
     "text": [
      "1\t3\t5\t"
     ]
    }
   ],
   "source": [
    "for i in range(1, 7, 2):\n",
    "    print(i, end='\\t')"
   ]
  },
  {
   "cell_type": "code",
   "execution_count": 49,
   "metadata": {},
   "outputs": [
    {
     "name": "stdout",
     "output_type": "stream",
     "text": [
      "H\ti\t,\t \tJ\ta\tk\te\t"
     ]
    }
   ],
   "source": [
    "for i in 'Hi, Jake':\n",
    "    print(i, end='\\t')"
   ]
  },
  {
   "cell_type": "code",
   "execution_count": 66,
   "metadata": {},
   "outputs": [
    {
     "name": "stdout",
     "output_type": "stream",
     "text": [
      "H\ti\t,\t \tJ\ta\tk\te\t"
     ]
    }
   ],
   "source": [
    "for i in 'Hi, Jake'.__iter__():\n",
    "    print(i, end='\\t')"
   ]
  },
  {
   "cell_type": "code",
   "execution_count": 65,
   "metadata": {},
   "outputs": [
    {
     "name": "stdout",
     "output_type": "stream",
     "text": [
      "['__class__', '__delattr__', '__dir__', '__doc__', '__eq__', '__format__', '__ge__', '__getattribute__', '__gt__', '__hash__', '__init__', '__init_subclass__', '__iter__', '__le__', '__length_hint__', '__lt__', '__ne__', '__new__', '__next__', '__reduce__', '__reduce_ex__', '__repr__', '__setattr__', '__setstate__', '__sizeof__', '__str__', '__subclasshook__']\n"
     ]
    }
   ],
   "source": [
    "print(dir('Hi, Jake'.__iter__()))"
   ]
  },
  {
   "cell_type": "code",
   "execution_count": 50,
   "metadata": {},
   "outputs": [
    {
     "name": "stdout",
     "output_type": "stream",
     "text": [
      "1\t3\t5\t2\t3\t44\t7\t"
     ]
    }
   ],
   "source": [
    "for i in [1,3,5,2,3,44,7]:\n",
    "    print(i, end='\\t')"
   ]
  },
  {
   "cell_type": "code",
   "execution_count": 51,
   "metadata": {},
   "outputs": [
    {
     "name": "stdout",
     "output_type": "stream",
     "text": [
      "1\t3\t5\t2\t3\t44\t7\t"
     ]
    }
   ],
   "source": [
    "for i in (1,3,5,2,3,44,7):\n",
    "    print(i, end='\\t')"
   ]
  },
  {
   "cell_type": "code",
   "execution_count": 52,
   "metadata": {},
   "outputs": [
    {
     "name": "stdout",
     "output_type": "stream",
     "text": [
      "1\t2\t3\t5\t7\t44\t"
     ]
    }
   ],
   "source": [
    "for i in {1,3,5,2,3,44,7}:\n",
    "    print(i, end='\\t')"
   ]
  },
  {
   "cell_type": "code",
   "execution_count": 53,
   "metadata": {},
   "outputs": [
    {
     "name": "stdout",
     "output_type": "stream",
     "text": [
      "1\t2\t3\t5\t7\t44\t"
     ]
    }
   ],
   "source": [
    "for i in frozenset({1,3,5,2,3,44,7}):\n",
    "    print(i, end='\\t')"
   ]
  },
  {
   "cell_type": "code",
   "execution_count": 54,
   "metadata": {},
   "outputs": [
    {
     "name": "stdout",
     "output_type": "stream",
     "text": [
      "name\tage\tnationality\t"
     ]
    }
   ],
   "source": [
    "for i in {'name':'Bob','age':20,'nationality':'korea'}:\n",
    "    print(i, end='\\t')"
   ]
  },
  {
   "cell_type": "code",
   "execution_count": 55,
   "metadata": {},
   "outputs": [
    {
     "name": "stdout",
     "output_type": "stream",
     "text": [
      "name\tage\tnationality\t"
     ]
    }
   ],
   "source": [
    "for i in {'name':'Bob','age':20,'nationality':'korea'}.keys():\n",
    "    print(i, end='\\t')"
   ]
  },
  {
   "cell_type": "code",
   "execution_count": 56,
   "metadata": {},
   "outputs": [
    {
     "name": "stdout",
     "output_type": "stream",
     "text": [
      "Bob\t20\tkorea\t"
     ]
    }
   ],
   "source": [
    "for i in {'name':'Bob','age':20,'nationality':'korea'}.values():\n",
    "    print(i, end='\\t')"
   ]
  },
  {
   "cell_type": "code",
   "execution_count": 57,
   "metadata": {},
   "outputs": [
    {
     "name": "stdout",
     "output_type": "stream",
     "text": [
      "('name', 'Bob')\t('age', 20)\t('nationality', 'korea')\t"
     ]
    }
   ],
   "source": [
    "for i in {'name':'Bob','age':20,'nationality':'korea'}.items():\n",
    "    print(i, end='\\t')"
   ]
  },
  {
   "cell_type": "code",
   "execution_count": 58,
   "metadata": {},
   "outputs": [
    {
     "name": "stdout",
     "output_type": "stream",
     "text": [
      "Bob sungchul\n",
      "age 20\n",
      "nationality korea\n"
     ]
    }
   ],
   "source": [
    "for key, value in {'Bob':'sungchul','age':20,'nationality':'korea'}.items():\n",
    "    print(key, value)"
   ]
  },
  {
   "cell_type": "code",
   "execution_count": 77,
   "metadata": {},
   "outputs": [
    {
     "name": "stdout",
     "output_type": "stream",
     "text": [
      "['__class__', '__delattr__', '__dir__', '__doc__', '__eq__', '__format__', '__ge__', '__getattribute__', '__gt__', '__hash__', '__init__', '__init_subclass__', '__iter__', '__le__', '__length_hint__', '__lt__', '__ne__', '__new__', '__next__', '__reduce__', '__reduce_ex__', '__repr__', '__setattr__', '__sizeof__', '__str__', '__subclasshook__']\n"
     ]
    }
   ],
   "source": [
    "print(dir({'one':1}.items().__iter__()))"
   ]
  },
  {
   "cell_type": "markdown",
   "metadata": {},
   "source": [
    "# enumerate"
   ]
  },
  {
   "cell_type": "code",
   "execution_count": 78,
   "metadata": {},
   "outputs": [
    {
     "name": "stdout",
     "output_type": "stream",
     "text": [
      "Bob\n",
      "John\n",
      "Smoth\n"
     ]
    }
   ],
   "source": [
    "names = ['Bob', 'John', 'Smoth']\n",
    "for name in names:\n",
    "    print(name)"
   ]
  },
  {
   "cell_type": "code",
   "execution_count": 79,
   "metadata": {},
   "outputs": [
    {
     "name": "stdout",
     "output_type": "stream",
     "text": [
      "(0, 'Bob')\n",
      "(1, 'John')\n",
      "(2, 'Smoth')\n"
     ]
    }
   ],
   "source": [
    "names = ['Bob', 'John', 'Smoth']\n",
    "for item in enumerate(names):\n",
    "    print(item)"
   ]
  },
  {
   "cell_type": "code",
   "execution_count": 80,
   "metadata": {},
   "outputs": [
    {
     "name": "stdout",
     "output_type": "stream",
     "text": [
      "0 Bob\n",
      "1 John\n",
      "2 Smoth\n"
     ]
    }
   ],
   "source": [
    "names = ['Bob', 'John', 'Smoth']\n",
    "for idx, name in enumerate(names):\n",
    "    print(idx, name)"
   ]
  },
  {
   "cell_type": "code",
   "execution_count": 81,
   "metadata": {},
   "outputs": [
    {
     "name": "stdout",
     "output_type": "stream",
     "text": [
      "1 Bob\n",
      "2 John\n",
      "3 Smoth\n"
     ]
    }
   ],
   "source": [
    "names = ['Bob', 'John', 'Smoth']\n",
    "for idx, name in enumerate(names, start=1):\n",
    "    print(idx, name)"
   ]
  },
  {
   "cell_type": "code",
   "execution_count": 83,
   "metadata": {},
   "outputs": [
    {
     "name": "stdout",
     "output_type": "stream",
     "text": [
      "{}\n",
      "{}\n",
      "--------------------------------------------------\n",
      "{'Bob': 0}\n",
      "{0: 'Bob'}\n",
      "--------------------------------------------------\n",
      "{'Bob': 0, 'John': 1}\n",
      "{0: 'Bob', 1: 'John'}\n",
      "--------------------------------------------------\n",
      "{'Bob': 0, 'John': 1, 'Smoth': 2}\n",
      "{0: 'Bob', 1: 'John', 2: 'Smoth'}\n",
      "--------------------------------------------------\n"
     ]
    }
   ],
   "source": [
    "names = ['Bob', 'John', 'Smoth']\n",
    "name_to_idx = {}\n",
    "idx_to_name = {}\n",
    "for idx, name in enumerate(names):\n",
    "    name_to_idx[name] = idx\n",
    "    idx_to_name[idx] = name\n",
    "print(name_to_idx) \n",
    "print(idx_to_name)"
   ]
  },
  {
   "cell_type": "code",
   "execution_count": 87,
   "metadata": {},
   "outputs": [
    {
     "name": "stdout",
     "output_type": "stream",
     "text": [
      "['__class__', '__delattr__', '__dir__', '__doc__', '__eq__', '__format__', '__ge__', '__getattribute__', '__gt__', '__hash__', '__init__', '__init_subclass__', '__iter__', '__le__', '__lt__', '__ne__', '__new__', '__next__', '__reduce__', '__reduce_ex__', '__repr__', '__setattr__', '__sizeof__', '__str__', '__subclasshook__']\n"
     ]
    }
   ],
   "source": [
    "print(dir(enumerate(names)))"
   ]
  },
  {
   "cell_type": "markdown",
   "metadata": {},
   "source": [
    "# zip"
   ]
  },
  {
   "cell_type": "code",
   "execution_count": 88,
   "metadata": {},
   "outputs": [
    {
     "name": "stdout",
     "output_type": "stream",
     "text": [
      "1 a\n",
      "2 b\n",
      "3 c\n"
     ]
    }
   ],
   "source": [
    "nums = [1,2,3]\n",
    "chars = 'abc'\n",
    "for i in range(3):\n",
    "    print(nums[i], chars[i])"
   ]
  },
  {
   "cell_type": "code",
   "execution_count": 89,
   "metadata": {},
   "outputs": [
    {
     "name": "stdout",
     "output_type": "stream",
     "text": [
      "(1, 'a')\n",
      "(2, 'b')\n",
      "(3, 'c')\n"
     ]
    }
   ],
   "source": [
    "nums = [1,2,3]\n",
    "chars = 'abc'\n",
    "for item in zip(nums, chars):\n",
    "        print(item)"
   ]
  },
  {
   "cell_type": "code",
   "execution_count": 90,
   "metadata": {},
   "outputs": [
    {
     "name": "stdout",
     "output_type": "stream",
     "text": [
      "1 a\n",
      "2 b\n",
      "3 c\n"
     ]
    }
   ],
   "source": [
    "nums = [1,2,3]\n",
    "chars = 'abc'\n",
    "for num, char in zip(nums, chars):\n",
    "        print(num, char)"
   ]
  },
  {
   "cell_type": "code",
   "execution_count": 91,
   "metadata": {},
   "outputs": [
    {
     "name": "stdout",
     "output_type": "stream",
     "text": [
      "1 a Bob\n",
      "2 b John\n",
      "3 c Smoth\n"
     ]
    }
   ],
   "source": [
    "nums = [1,2,3]\n",
    "chars = 'abc'\n",
    "names = ['Bob', 'John', 'Smoth']\n",
    "for num, char, name in zip(nums, chars, names):\n",
    "        print(num, char, name)"
   ]
  },
  {
   "cell_type": "code",
   "execution_count": 93,
   "metadata": {},
   "outputs": [
    {
     "name": "stdout",
     "output_type": "stream",
     "text": [
      "1 a Bob\n",
      "2 b John\n"
     ]
    }
   ],
   "source": [
    "nums = [1,2,3]\n",
    "chars = 'abcdef'\n",
    "names = ['Bob', 'John']\n",
    "for num, char, name in zip(nums, chars, names):\n",
    "        print(num, char, name)"
   ]
  },
  {
   "cell_type": "code",
   "execution_count": 96,
   "metadata": {},
   "outputs": [
    {
     "name": "stdout",
     "output_type": "stream",
     "text": [
      "['__class__', '__delattr__', '__dir__', '__doc__', '__eq__', '__format__', '__ge__', '__getattribute__', '__gt__', '__hash__', '__init__', '__init_subclass__', '__iter__', '__le__', '__lt__', '__ne__', '__new__', '__next__', '__reduce__', '__reduce_ex__', '__repr__', '__setattr__', '__sizeof__', '__str__', '__subclasshook__']\n"
     ]
    }
   ],
   "source": [
    "print(dir(zip(nums, chars, names)))"
   ]
  },
  {
   "cell_type": "markdown",
   "metadata": {},
   "source": [
    "# break vs continue"
   ]
  },
  {
   "cell_type": "code",
   "execution_count": 97,
   "metadata": {},
   "outputs": [
    {
     "name": "stdout",
     "output_type": "stream",
     "text": [
      "0\n",
      "현재 i : 0\n",
      "1\n",
      "현재 i : 1\n",
      "2\n"
     ]
    }
   ],
   "source": [
    "for i in range(4): # i <--- 0, 1, 2, 3\n",
    "    print(i)\n",
    "    if i == 2:\n",
    "        break\n",
    "    print(f'현재 i : {i}')"
   ]
  },
  {
   "cell_type": "code",
   "execution_count": 98,
   "metadata": {},
   "outputs": [
    {
     "name": "stdout",
     "output_type": "stream",
     "text": [
      "0\n",
      "현재 i : 0\n",
      "1\n",
      "현재 i : 1\n",
      "2\n",
      "3\n",
      "현재 i : 3\n"
     ]
    }
   ],
   "source": [
    "for i in range(4): # i <--- 0, 1, 2, 3\n",
    "    print(i)\n",
    "    if i == 2:\n",
    "        continue\n",
    "    print(f'현재 i : {i}')"
   ]
  },
  {
   "cell_type": "markdown",
   "metadata": {},
   "source": [
    "# break vs else (no break)"
   ]
  },
  {
   "cell_type": "code",
   "execution_count": 101,
   "metadata": {},
   "outputs": [
    {
     "name": "stdout",
     "output_type": "stream",
     "text": [
      "0\n",
      "현재 i : 0\n",
      "1\n",
      "현재 i : 1\n",
      "2\n",
      "for loop 종료\n"
     ]
    }
   ],
   "source": [
    "for i in range(4):\n",
    "    print(i)\n",
    "    if i == 2:\n",
    "        break\n",
    "    print(f'현재 i : {i}')\n",
    "else:\n",
    "    print('break 발생하지 않음')\n",
    "    \n",
    "print('for loop 종료')"
   ]
  },
  {
   "cell_type": "code",
   "execution_count": 31,
   "metadata": {},
   "outputs": [
    {
     "name": "stdout",
     "output_type": "stream",
     "text": [
      "0\n",
      "현재 i : 0\n",
      "1\n",
      "현재 i : 1\n",
      "2\n",
      "현재 i : 2\n",
      "3\n",
      "현재 i : 3\n",
      "break 발생하지 않음\n",
      "for loop 종료\n"
     ]
    }
   ],
   "source": [
    "for i in range(4):\n",
    "    print(i)\n",
    "    if i == 10:\n",
    "        break\n",
    "    print(f'현재 i : {i}')\n",
    "else: # no break\n",
    "    print('break 발생하지 않음')\n",
    "    \n",
    "print('for loop 종료')"
   ]
  }
 ],
 "metadata": {
  "kernelspec": {
   "display_name": "Python 3",
   "language": "python",
   "name": "python3"
  },
  "language_info": {
   "codemirror_mode": {
    "name": "ipython",
    "version": 3
   },
   "file_extension": ".py",
   "mimetype": "text/x-python",
   "name": "python",
   "nbconvert_exporter": "python",
   "pygments_lexer": "ipython3",
   "version": "3.7.7"
  }
 },
 "nbformat": 4,
 "nbformat_minor": 2
}
