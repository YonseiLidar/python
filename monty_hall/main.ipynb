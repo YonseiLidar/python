{
 "cells": [
  {
   "cell_type": "code",
   "execution_count": 1,
   "metadata": {},
   "outputs": [],
   "source": [
    "import matplotlib.pyplot as plt\n",
    "import numpy as np\n",
    "import random"
   ]
  },
  {
   "cell_type": "code",
   "execution_count": 2,
   "metadata": {},
   "outputs": [],
   "source": [
    "class Monty:\n",
    "    \n",
    "    def __init__(self):\n",
    "        self.doors = [0, 1, 2]\n",
    "        self.car_position = random.choice(self.doors)\n",
    "        self.first_choice = None\n",
    "        self.host_choice = None\n",
    "        self.final_choice = None\n",
    "        \n",
    "    def first_round(self):\n",
    "        self.first_choice = int(input(f'Choose one from {self.doors} : '))\n",
    "        print(f'You choose Door {self.first_choice} as your first choice.')\n",
    "    \n",
    "    def host_round(self):\n",
    "        host_list = [0, 1, 2]\n",
    "        host_list.remove(self.car_position)\n",
    "        try:\n",
    "            host_list.remove(self.first_choice)\n",
    "        except ValueError:\n",
    "            pass\n",
    "        self.host_choice = random.choice(host_list)\n",
    "        print(f'Host open Door {self.host_choice} and show a goat.')\n",
    "                \n",
    "    def final_round(self):\n",
    "        player_list = [0, 1, 2]\n",
    "        player_list.remove(self.host_choice)\n",
    "        self.final_choice = int(input(f'Choose one from {player_list} : '))\n",
    "        print(f'You choose Door {self.final_choice} as your final choice.')\n",
    "    \n",
    "    def open_final_round_door(self):\n",
    "        print(f'Let\\'s open Door {self.final_choice}.')\n",
    "        if self.final_choice == self.car_position:\n",
    "            print('Congrat! You have a brand new car!')\n",
    "        else:\n",
    "            print('Sorry, you have a goat.')\n",
    "            \n",
    "    def run(self):\n",
    "        self.first_round() \n",
    "        self.host_round()\n",
    "        self.final_round()\n",
    "        self.open_final_round_door()"
   ]
  },
  {
   "cell_type": "code",
   "execution_count": 4,
   "metadata": {},
   "outputs": [
    {
     "name": "stdout",
     "output_type": "stream",
     "text": [
      "Choose one from [0, 1, 2] : 2\n",
      "You choose Door 2 as your first choice.\n",
      "Host open Door 0 and show a goat.\n",
      "Choose one from [1, 2] : 2\n",
      "You choose Door 2 as your final choice.\n",
      "Let's open Door 2.\n",
      "Sorry, you have a goat.\n"
     ]
    }
   ],
   "source": [
    "a = Monty()\n",
    "a.run()"
   ]
  },
  {
   "cell_type": "code",
   "execution_count": 5,
   "metadata": {},
   "outputs": [],
   "source": [
    "class MontyStick:\n",
    "    \n",
    "    def __init__(self):\n",
    "        self.doors = [0, 1, 2]\n",
    "        self.car_position = random.choice(self.doors)\n",
    "        self.final_choice = random.choice(self.doors)\n",
    "            \n",
    "    def run(self):\n",
    "        if self.final_choice == self.car_position:\n",
    "            return 1\n",
    "        else:\n",
    "            return 0"
   ]
  },
  {
   "cell_type": "code",
   "execution_count": 7,
   "metadata": {},
   "outputs": [
    {
     "data": {
      "image/png": "[encoded data removed]",
      "text/plain": [
       "<Figure size 432x288 with 1 Axes>"
      ]
     },
     "metadata": {
      "needs_background": "light"
     },
     "output_type": "display_data"
    }
   ],
   "source": [
    "n_tries = 1000\n",
    "results = []\n",
    "for _ in range(n_tries):\n",
    "    results.append(MontyStick().run())\n",
    "\n",
    "results = np.array(results)\n",
    "cum_success_rates = results.cumsum() / np.arange(1, n_tries+1) \n",
    "plt.plot(cum_success_rates)\n",
    "plt.show()"
   ]
  },
  {
   "cell_type": "code",
   "execution_count": 9,
   "metadata": {},
   "outputs": [],
   "source": [
    "class MontySwitch:\n",
    "    \n",
    "    def __init__(self):\n",
    "        self.doors = [0, 1, 2]\n",
    "        self.car_position = random.choice(self.doors)\n",
    "        self.first_choice = None\n",
    "        self.host_choice = None\n",
    "        self.final_choice = None\n",
    "        \n",
    "    def first_round(self):\n",
    "        self.first_choice = random.choice(self.doors)\n",
    "        \n",
    "    def host_round(self):\n",
    "        host_list = [0, 1, 2]\n",
    "        host_list.remove(self.car_position)\n",
    "        try:\n",
    "            host_list.remove(self.first_choice)\n",
    "        except ValueError:\n",
    "            pass\n",
    "        self.host_choice = random.choice(host_list)\n",
    "        \n",
    "    def final_round(self):\n",
    "        player_list = [0, 1, 2]\n",
    "        player_list.remove(self.first_choice)\n",
    "        player_list.remove(self.host_choice)\n",
    "        self.final_choice = player_list[0]\n",
    "        \n",
    "    def open_final_round_door(self):\n",
    "        if self.final_choice == self.car_position:\n",
    "            return 1\n",
    "        else:\n",
    "            return 0\n",
    "            \n",
    "    def run(self):\n",
    "        self.first_round() \n",
    "        self.host_round()\n",
    "        self.final_round()\n",
    "        return self.open_final_round_door()"
   ]
  },
  {
   "cell_type": "code",
   "execution_count": 11,
   "metadata": {},
   "outputs": [
    {
     "data": {
      "image/png": "[encoded data removed]",
      "text/plain": [
       "<Figure size 432x288 with 1 Axes>"
      ]
     },
     "metadata": {
      "needs_background": "light"
     },
     "output_type": "display_data"
    }
   ],
   "source": [
    "n_tries = 1000\n",
    "results = []\n",
    "for _ in range(n_tries):\n",
    "    results.append(MontySwitch().run())\n",
    "\n",
    "results = np.array(results)\n",
    "cum_success_rates = results.cumsum() / np.arange(1, n_tries+1) \n",
    "plt.plot(cum_success_rates)\n",
    "plt.show()"
   ]
  },
  {
   "cell_type": "markdown",
   "metadata": {},
   "source": [
    "# Exersise\n",
    "\n",
    "1. Visualize the above.\n",
    "\n",
    "2. Increase the number of doors."
   ]
  }
 ],
 "metadata": {
  "kernelspec": {
   "display_name": "Python 3",
   "language": "python",
   "name": "python3"
  },
  "language_info": {
   "codemirror_mode": {
    "name": "ipython",
    "version": 3
   },
   "file_extension": ".py",
   "mimetype": "text/x-python",
   "name": "python",
   "nbconvert_exporter": "python",
   "pygments_lexer": "ipython3",
   "version": "3.7.7"
  }
 },
 "nbformat": 4,
 "nbformat_minor": 4
}
