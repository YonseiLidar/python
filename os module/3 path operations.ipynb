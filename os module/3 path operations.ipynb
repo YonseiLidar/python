{
 "cells": [
  {
   "cell_type": "code",
   "execution_count": 1,
   "metadata": {},
   "outputs": [],
   "source": [
    "import os"
   ]
  },
  {
   "cell_type": "code",
   "execution_count": 2,
   "metadata": {},
   "outputs": [
    {
     "data": {
      "text/plain": [
       "'/Users/sungchullee/Dropbox/Git/python/os module'"
      ]
     },
     "execution_count": 2,
     "metadata": {},
     "output_type": "execute_result"
    }
   ],
   "source": [
    "os.getcwd()"
   ]
  },
  {
   "cell_type": "code",
   "execution_count": 3,
   "metadata": {},
   "outputs": [
    {
     "data": {
      "text/plain": [
       "['1 move around.ipynb',\n",
       " '2 check.ipynb',\n",
       " '4 make and remove directory.ipynb',\n",
       " 'DIR-2',\n",
       " '6 rename file.ipynb',\n",
       " '.ipynb_checkpoints',\n",
       " '5 make and remove file.ipynb',\n",
       " 'DIR-1',\n",
       " '3 path operations.ipynb']"
      ]
     },
     "execution_count": 3,
     "metadata": {},
     "output_type": "execute_result"
    }
   ],
   "source": [
    "os.listdir()"
   ]
  },
  {
   "cell_type": "code",
   "execution_count": 4,
   "metadata": {},
   "outputs": [
    {
     "name": "stdout",
     "output_type": "stream",
     "text": [
      "디렉토리 :  DIR-2\n",
      "?  True\n",
      "디렉토리 ?  True\n",
      "파일 ? False\n"
     ]
    }
   ],
   "source": [
    "for i in os.listdir():\n",
    "    if os.path.isdir(i):\n",
    "        dir_1 = i\n",
    "        print('디렉토리 : ', dir_1)\n",
    "        print('? ', os.path.exists(dir_1))\n",
    "        print('디렉토리 ? ', os.path.isdir(dir_1))\n",
    "        print('파일 ?', os.path.isfile(dir_1))\n",
    "        break"
   ]
  },
  {
   "cell_type": "code",
   "execution_count": 5,
   "metadata": {},
   "outputs": [
    {
     "name": "stdout",
     "output_type": "stream",
     "text": [
      "파일 :  1 move around.ipynb\n",
      "?  True\n",
      "디렉토리 ?  False\n",
      "파일 ? True\n"
     ]
    }
   ],
   "source": [
    "for i in os.listdir():\n",
    "    if os.path.isfile(i):\n",
    "        file_1 = i\n",
    "        print('파일 : ', file_1)\n",
    "        print('? ', os.path.exists(file_1))\n",
    "        print('디렉토리 ? ', os.path.isdir(file_1))\n",
    "        print('파일 ?', os.path.isfile(file_1))\n",
    "        break"
   ]
  },
  {
   "cell_type": "code",
   "execution_count": 11,
   "metadata": {},
   "outputs": [
    {
     "name": "stdout",
     "output_type": "stream",
     "text": [
      "/Users/sungchul/Dropbox/Git/python/os module\n",
      "1 move around.ipynb\n",
      "/Users/sungchul/Dropbox/Git/python/os module/1 move around.ipynb\n"
     ]
    }
   ],
   "source": [
    "# 디렉토리\n",
    "if 1:\n",
    "    directory = '/Users/sungchul/Dropbox/Git/python/os module'\n",
    "else:\n",
    "    directory = '/Users/sungchul/Dropbox/Git/python/os module/'\n",
    "print(directory)\n",
    "\n",
    "# 파일\n",
    "file = '1 move around.ipynb'\n",
    "print(file)\n",
    "\n",
    "# 패스\n",
    "if 0:\n",
    "    full_path = directory + file\n",
    "elif 0:\n",
    "    full_path = directory + '/' + file\n",
    "else:\n",
    "    full_path = os.path.join(directory, file)\n",
    "    \n",
    "print(full_path)"
   ]
  },
  {
   "cell_type": "code",
   "execution_count": 15,
   "metadata": {},
   "outputs": [
    {
     "data": {
      "text/plain": [
       "('/Users/sungchul/Dropbox/Git/python/os module/1 move around', '.ipynb')"
      ]
     },
     "execution_count": 15,
     "metadata": {},
     "output_type": "execute_result"
    }
   ],
   "source": [
    "#os.path.dirname(full_path) # 디렉토리\n",
    "#os.path.basename(full_path) # 파일\n",
    "#os.path.split(full_path) # (디렉토리, 파일)\n",
    "os.path.splitext(full_path) # (텍스트, 익스텐션)"
   ]
  },
  {
   "cell_type": "code",
   "execution_count": null,
   "metadata": {},
   "outputs": [],
   "source": []
  }
 ],
 "metadata": {
  "kernelspec": {
   "display_name": "Python 3",
   "language": "python",
   "name": "python3"
  },
  "language_info": {
   "codemirror_mode": {
    "name": "ipython",
    "version": 3
   },
   "file_extension": ".py",
   "mimetype": "text/x-python",
   "name": "python",
   "nbconvert_exporter": "python",
   "pygments_lexer": "ipython3",
   "version": "3.7.7"
  }
 },
 "nbformat": 4,
 "nbformat_minor": 2
}
