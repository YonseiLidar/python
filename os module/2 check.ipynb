{
 "cells": [
  {
   "cell_type": "code",
   "execution_count": 1,
   "metadata": {},
   "outputs": [],
   "source": [
    "import os"
   ]
  },
  {
   "cell_type": "code",
   "execution_count": 2,
   "metadata": {},
   "outputs": [
    {
     "data": {
      "text/plain": [
       "'/Users/sungchullee/Dropbox/Git/python/os module'"
      ]
     },
     "execution_count": 2,
     "metadata": {},
     "output_type": "execute_result"
    }
   ],
   "source": [
    "os.getcwd()"
   ]
  },
  {
   "cell_type": "code",
   "execution_count": 4,
   "metadata": {},
   "outputs": [
    {
     "data": {
      "text/plain": [
       "['1 move around.ipynb',\n",
       " '2 check.ipynb',\n",
       " '4 make and remove directory.ipynb',\n",
       " 'DIR-2',\n",
       " '6 rename file.ipynb',\n",
       " '.ipynb_checkpoints',\n",
       " '5 make and remove file.ipynb',\n",
       " 'DIR-1',\n",
       " '3 path operations.ipynb']"
      ]
     },
     "execution_count": 4,
     "metadata": {},
     "output_type": "execute_result"
    }
   ],
   "source": [
    "os.listdir()"
   ]
  },
  {
   "cell_type": "code",
   "execution_count": 7,
   "metadata": {},
   "outputs": [
    {
     "data": {
      "text/plain": [
       "False"
      ]
     },
     "execution_count": 7,
     "metadata": {},
     "output_type": "execute_result"
    }
   ],
   "source": [
    "#os.path.exists('OS-DEMO-1') # check path (directory of file)\n",
    "#os.path.exists('DIR-2')\n",
    "\n",
    "#os.path.exists('1 move around.ipynb') \n",
    "os.path.exists('10 move around.ipynb')"
   ]
  },
  {
   "cell_type": "code",
   "execution_count": 11,
   "metadata": {
    "scrolled": true
   },
   "outputs": [
    {
     "data": {
      "text/plain": [
       "False"
      ]
     },
     "execution_count": 11,
     "metadata": {},
     "output_type": "execute_result"
    }
   ],
   "source": [
    "#os.path.isdir('OS-DEMO-1') # check directory\n",
    "#os.path.isdir('DIR-2')\n",
    "\n",
    "#os.path.isdir('1 move around.ipynb') \n",
    "os.path.isdir('10 move around.ipynb')"
   ]
  },
  {
   "cell_type": "code",
   "execution_count": 15,
   "metadata": {},
   "outputs": [
    {
     "data": {
      "text/plain": [
       "False"
      ]
     },
     "execution_count": 15,
     "metadata": {},
     "output_type": "execute_result"
    }
   ],
   "source": [
    "#os.path.isfile('OS-DEMO-1') # check file\n",
    "#os.path.isfile('DIR-2')\n",
    "\n",
    "#os.path.isfile('1 move around.ipynb') \n",
    "os.path.isfile('10 move around.ipynb')"
   ]
  },
  {
   "cell_type": "code",
   "execution_count": null,
   "metadata": {},
   "outputs": [],
   "source": []
  }
 ],
 "metadata": {
  "kernelspec": {
   "display_name": "Python 3",
   "language": "python",
   "name": "python3"
  },
  "language_info": {
   "codemirror_mode": {
    "name": "ipython",
    "version": 3
   },
   "file_extension": ".py",
   "mimetype": "text/x-python",
   "name": "python",
   "nbconvert_exporter": "python",
   "pygments_lexer": "ipython3",
   "version": "3.7.7"
  }
 },
 "nbformat": 4,
 "nbformat_minor": 2
}
