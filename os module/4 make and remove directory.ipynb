{
 "cells": [
  {
   "cell_type": "code",
   "execution_count": 1,
   "metadata": {},
   "outputs": [],
   "source": [
    "import os"
   ]
  },
  {
   "cell_type": "code",
   "execution_count": 2,
   "metadata": {},
   "outputs": [
    {
     "data": {
      "text/plain": [
       "'/Users/sungchullee/Dropbox/Git/python/os module'"
      ]
     },
     "execution_count": 2,
     "metadata": {},
     "output_type": "execute_result"
    }
   ],
   "source": [
    "cwd = os.getcwd()\n",
    "cwd"
   ]
  },
  {
   "cell_type": "code",
   "execution_count": 3,
   "metadata": {},
   "outputs": [
    {
     "data": {
      "text/plain": [
       "['1 move around.ipynb',\n",
       " '2 check.ipynb',\n",
       " '.DS_Store',\n",
       " '4 make and remove directory.ipynb',\n",
       " 'DIR-3',\n",
       " 'DIR-2',\n",
       " '6 rename file.ipynb',\n",
       " '.ipynb_checkpoints',\n",
       " '5 make and remove file.ipynb',\n",
       " 'DIR-1',\n",
       " '3 path operations.ipynb']"
      ]
     },
     "execution_count": 3,
     "metadata": {},
     "output_type": "execute_result"
    }
   ],
   "source": [
    "os.listdir()\n",
    "#os.listdir(cwd)\n",
    "#os.listdir(os.getcwd())"
   ]
  },
  {
   "cell_type": "markdown",
   "metadata": {},
   "source": [
    "`a'   \n",
    "\n",
    "    Open for writing.  The file is created if it does not exist.  The\n",
    "    stream is positioned at the end of the file.  Subsequent writes\n",
    "    to the file will always end up at the then current end of file,\n",
    "    irrespective of any intervening fseek(3) or similar.\n",
    "\n",
    "[stackoverflow](https://stackoverflow.com/questions/1466000/difference-between-modes-a-a-w-w-and-r-in-built-in-open-function)"
   ]
  },
  {
   "cell_type": "markdown",
   "metadata": {},
   "source": [
    "# make directory"
   ]
  },
  {
   "cell_type": "code",
   "execution_count": 4,
   "metadata": {},
   "outputs": [],
   "source": [
    "os.makedirs('DIR-3', exist_ok=True)\n",
    "os.makedirs('DIR-3/temp-1', exist_ok=True)\n",
    "os.makedirs('DIR-3/temp-2', exist_ok=True)\n",
    "os.makedirs('DIR-3/temp-3', exist_ok=True)"
   ]
  },
  {
   "cell_type": "markdown",
   "metadata": {},
   "source": [
    "# make file"
   ]
  },
  {
   "cell_type": "code",
   "execution_count": 5,
   "metadata": {},
   "outputs": [],
   "source": [
    "open(\"DIR-3/newfile.txt\", 'a').close()\n",
    "open(\"DIR-3/newfile.py\", 'a').close()\n",
    "open(\"DIR-3/newfile.ipynb\", 'a').close()"
   ]
  },
  {
   "cell_type": "code",
   "execution_count": 6,
   "metadata": {},
   "outputs": [
    {
     "name": "stdout",
     "output_type": "stream",
     "text": [
      "path :  DIR-3\n",
      "dirs :  ['temp-3', 'temp-2', 'temp-1']\n",
      "files :  ['newfile.py', 'wow.mp4', 'newfile.ipynb', 'newfile.txt']\n",
      "\n",
      "path :  DIR-3/temp-3\n",
      "dirs :  []\n",
      "files :  []\n",
      "\n",
      "path :  DIR-3/temp-2\n",
      "dirs :  []\n",
      "files :  []\n",
      "\n",
      "path :  DIR-3/temp-1\n",
      "dirs :  []\n",
      "files :  []\n",
      "\n"
     ]
    }
   ],
   "source": [
    "for path, dirs, files in os.walk('DIR-3'):\n",
    "    print('path : ', path)\n",
    "    print('dirs : ', dirs)\n",
    "    print('files : ', files)\n",
    "    print()"
   ]
  },
  {
   "cell_type": "markdown",
   "metadata": {},
   "source": [
    "# remove directory"
   ]
  },
  {
   "cell_type": "code",
   "execution_count": 7,
   "metadata": {},
   "outputs": [],
   "source": [
    "import shutil # shell utilities\n",
    "# os.rmdir\n",
    "# os.removedirs\n",
    "shutil.rmtree('DIR-3') "
   ]
  },
  {
   "cell_type": "code",
   "execution_count": 8,
   "metadata": {},
   "outputs": [
    {
     "data": {
      "text/plain": [
       "['1 move around.ipynb',\n",
       " '2 check.ipynb',\n",
       " '.DS_Store',\n",
       " '4 make and remove directory.ipynb',\n",
       " 'DIR-2',\n",
       " '6 rename file.ipynb',\n",
       " '.ipynb_checkpoints',\n",
       " '5 make and remove file.ipynb',\n",
       " 'DIR-1',\n",
       " '3 path operations.ipynb']"
      ]
     },
     "execution_count": 8,
     "metadata": {},
     "output_type": "execute_result"
    }
   ],
   "source": [
    "os.listdir()"
   ]
  },
  {
   "cell_type": "code",
   "execution_count": null,
   "metadata": {},
   "outputs": [],
   "source": []
  }
 ],
 "metadata": {
  "kernelspec": {
   "display_name": "Python 3",
   "language": "python",
   "name": "python3"
  },
  "language_info": {
   "codemirror_mode": {
    "name": "ipython",
    "version": 3
   },
   "file_extension": ".py",
   "mimetype": "text/x-python",
   "name": "python",
   "nbconvert_exporter": "python",
   "pygments_lexer": "ipython3",
   "version": "3.7.7"
  }
 },
 "nbformat": 4,
 "nbformat_minor": 2
}
