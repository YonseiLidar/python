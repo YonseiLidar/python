{
 "cells": [
  {
   "cell_type": "code",
   "execution_count": 1,
   "metadata": {},
   "outputs": [],
   "source": [
    "import os"
   ]
  },
  {
   "cell_type": "code",
   "execution_count": 2,
   "metadata": {},
   "outputs": [
    {
     "data": {
      "text/plain": [
       "'/Users/sungchullee/Dropbox/Git/python/os module'"
      ]
     },
     "execution_count": 2,
     "metadata": {},
     "output_type": "execute_result"
    }
   ],
   "source": [
    "os.getcwd() # get current working directory"
   ]
  },
  {
   "cell_type": "code",
   "execution_count": 5,
   "metadata": {},
   "outputs": [
    {
     "data": {
      "text/plain": [
       "'/Users/sungchullee/Dropbox/Git/python/os module'"
      ]
     },
     "execution_count": 5,
     "metadata": {},
     "output_type": "execute_result"
    }
   ],
   "source": [
    "cwd = os.getcwd() \n",
    "cwd"
   ]
  },
  {
   "cell_type": "code",
   "execution_count": 6,
   "metadata": {},
   "outputs": [
    {
     "data": {
      "text/plain": [
       "['1 move around.ipynb',\n",
       " '2 check.ipynb',\n",
       " '4 make and remove directory.ipynb',\n",
       " 'DIR-2',\n",
       " '6 rename file.ipynb',\n",
       " '.ipynb_checkpoints',\n",
       " '5 make and remove file.ipynb',\n",
       " 'DIR-1',\n",
       " '3 path operations.ipynb']"
      ]
     },
     "execution_count": 6,
     "metadata": {},
     "output_type": "execute_result"
    }
   ],
   "source": [
    "os.listdir() # list directory of folders and files"
   ]
  },
  {
   "cell_type": "code",
   "execution_count": 7,
   "metadata": {},
   "outputs": [
    {
     "name": "stdout",
     "output_type": "stream",
     "text": [
      "DIR-2\n"
     ]
    }
   ],
   "source": [
    "for i in os.listdir():\n",
    "    if os.path.isdir(i):\n",
    "        dir_1 = i\n",
    "        print(dir_1)\n",
    "        break"
   ]
  },
  {
   "cell_type": "code",
   "execution_count": 8,
   "metadata": {},
   "outputs": [
    {
     "name": "stdout",
     "output_type": "stream",
     "text": [
      "1 move around.ipynb\n"
     ]
    }
   ],
   "source": [
    "for i in os.listdir():\n",
    "    if os.path.isfile(i):\n",
    "        file_1 = i\n",
    "        print(file_1)\n",
    "        break"
   ]
  },
  {
   "cell_type": "code",
   "execution_count": 9,
   "metadata": {},
   "outputs": [
    {
     "data": {
      "text/plain": [
       "'/Users/sungchullee/Dropbox/Git/python/os module/DIR-2'"
      ]
     },
     "execution_count": 9,
     "metadata": {},
     "output_type": "execute_result"
    }
   ],
   "source": [
    "os.chdir(dir_1) # change directory\n",
    "os.getcwd()"
   ]
  },
  {
   "cell_type": "code",
   "execution_count": 13,
   "metadata": {},
   "outputs": [
    {
     "data": {
      "text/plain": [
       "['.config',\n",
       " 'Music',\n",
       " '.DS_Store',\n",
       " 'nltk_data',\n",
       " 'get-pip.py',\n",
       " '.CFUserTextEncoding',\n",
       " '.local',\n",
       " 'Pictures',\n",
       " '.ipython',\n",
       " 'Desktop',\n",
       " 'Library',\n",
       " '.matplotlib',\n",
       " 'Theano',\n",
       " 'scikit_learn_data',\n",
       " '.cups',\n",
       " '.bash_sessions',\n",
       " 'Public',\n",
       " '.dropbox',\n",
       " '.bash_profile-anaconda3.bak',\n",
       " '.python_history-27210.tmp',\n",
       " 'Movies',\n",
       " 'Applications',\n",
       " '.python-version',\n",
       " 'Dropbox',\n",
       " 'opt',\n",
       " '.Trash',\n",
       " '.ipynb_checkpoints',\n",
       " '.jupyter',\n",
       " '.keras',\n",
       " 'Documents',\n",
       " '.pyenv',\n",
       " '.zipline',\n",
       " '.bash_profile',\n",
       " 'anaconda3',\n",
       " 'Downloads',\n",
       " '.python_history',\n",
       " '.bash_history',\n",
       " '.astropy',\n",
       " '.conda']"
      ]
     },
     "execution_count": 13,
     "metadata": {},
     "output_type": "execute_result"
    }
   ],
   "source": [
    "#os.environ # 환경\n",
    "#os.environ['HOME']\n",
    "os.chdir(os.environ['HOME']) \n",
    "#os.getcwd()\n",
    "os.listdir()"
   ]
  },
  {
   "cell_type": "code",
   "execution_count": 14,
   "metadata": {},
   "outputs": [
    {
     "data": {
      "text/plain": [
       "'/Users/sungchullee/Dropbox/Git/python/os module'"
      ]
     },
     "execution_count": 14,
     "metadata": {},
     "output_type": "execute_result"
    }
   ],
   "source": [
    "os.chdir(cwd)\n",
    "os.getcwd()"
   ]
  },
  {
   "cell_type": "code",
   "execution_count": 15,
   "metadata": {},
   "outputs": [
    {
     "name": "stdout",
     "output_type": "stream",
     "text": [
      "디렉토리 패스 : /Users/sungchullee/Dropbox/Git/python/os module\n",
      "디렉토리 이름들 : ['DIR-2', '.ipynb_checkpoints', 'DIR-1']\n",
      "파일 이름들 : ['1 move around.ipynb', '2 check.ipynb', '4 make and remove directory.ipynb', '6 rename file.ipynb', '5 make and remove file.ipynb', '3 path operations.ipynb']\n",
      "\n",
      "디렉토리 패스 : /Users/sungchullee/Dropbox/Git/python/os module/DIR-2\n",
      "디렉토리 이름들 : ['SUB-2']\n",
      "파일 이름들 : []\n",
      "\n",
      "디렉토리 패스 : /Users/sungchullee/Dropbox/Git/python/os module/DIR-2/SUB-2\n",
      "디렉토리 이름들 : []\n",
      "파일 이름들 : []\n",
      "\n",
      "디렉토리 패스 : /Users/sungchullee/Dropbox/Git/python/os module/.ipynb_checkpoints\n",
      "디렉토리 이름들 : []\n",
      "파일 이름들 : ['3 path operations-checkpoint.ipynb', '2 check-checkpoint.ipynb', '4 make, remove, rename-checkpoint.ipynb', '1 move around-checkpoint.ipynb']\n",
      "\n",
      "디렉토리 패스 : /Users/sungchullee/Dropbox/Git/python/os module/DIR-1\n",
      "디렉토리 이름들 : []\n",
      "파일 이름들 : []\n",
      "\n"
     ]
    }
   ],
   "source": [
    "# os.walk() <---- generator\n",
    "for dirpath, dirnames, filenames in os.walk(os.getcwd()):\n",
    "    print(f'디렉토리 패스 : {dirpath}')\n",
    "    print(f'디렉토리 이름들 : {dirnames}')\n",
    "    print(f'파일 이름들 : {filenames}')\n",
    "    print()"
   ]
  },
  {
   "cell_type": "code",
   "execution_count": 21,
   "metadata": {},
   "outputs": [
    {
     "name": "stdout",
     "output_type": "stream",
     "text": [
      "os.stat_result(st_mode=33188, st_ino=24300950, st_dev=16777224, st_nlink=1, st_uid=501, st_gid=20, st_size=7702, st_atime=1599919729, st_mtime=1599919728, st_ctime=1599919728)\n",
      "2020-09-12 23:08:48.095598\n"
     ]
    }
   ],
   "source": [
    "from datetime import datetime\n",
    "print(os.stat('1 move around.ipynb'))\n",
    "#os.stat('1 move around.ipynb').st_size # 파일 사이즈 (바이트)\n",
    "#os.stat('1 move around.ipynb').st_mtime # 최종 수정 시간 (유닉스 타임)\n",
    "print(datetime.fromtimestamp(os.stat('1 move around.ipynb').st_mtime)) # 최종 수정 시간 (보통의 타임)"
   ]
  },
  {
   "cell_type": "code",
   "execution_count": null,
   "metadata": {},
   "outputs": [],
   "source": []
  }
 ],
 "metadata": {
  "kernelspec": {
   "display_name": "Python 3",
   "language": "python",
   "name": "python3"
  },
  "language_info": {
   "codemirror_mode": {
    "name": "ipython",
    "version": 3
   },
   "file_extension": ".py",
   "mimetype": "text/x-python",
   "name": "python",
   "nbconvert_exporter": "python",
   "pygments_lexer": "ipython3",
   "version": "3.7.7"
  }
 },
 "nbformat": 4,
 "nbformat_minor": 2
}
