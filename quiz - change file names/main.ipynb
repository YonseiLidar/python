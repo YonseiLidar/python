{
 "cells": [
  {
   "cell_type": "code",
   "execution_count": 20,
   "metadata": {},
   "outputs": [],
   "source": [
    "import os\n",
    "\n",
    "os.chdir('/Users/sungchullee/Documents/토크멘터리 전쟁사')\n",
    "\n",
    "for f in os.listdir():\n",
    "    if f == '.DS_Store':\n",
    "        continue\n",
    "    title, ext = os.path.splitext(f) # 타이틀, .mp4\n",
    "    \n",
    "    \n",
    "    main_title, topic = title.split(']')\n",
    "    main_title = main_title.replace('史', '사')\n",
    "    main_title += ']'    \n",
    "    \n",
    "    num, *leftover = topic.split()\n",
    "    leftover = ' '.join(leftover)\n",
    "    num = num.replace('부.', '')\n",
    "    num = num.replace('부', '')\n",
    "    num = num.replace('회', '')\n",
    "    \n",
    "    if num == '83회': num = '83'\n",
    "    if num == '126부': num = '126'\n",
    "    if num == '127부': num = '127'\n",
    "    if num == '128부': num = '128'\n",
    "    if num == '142부': num = '142'\n",
    "    if num == '156부': num = '156'\n",
    "    if num == '157부': num = '157'\n",
    "    if num == '160부': num = '160'\n",
    "    if num == '182부': num = '182'\n",
    "    if num == '190부': num = '190'\n",
    "        \n",
    "    num = num.zfill(3)\n",
    "                \n",
    "    os.rename(f, f'{num} {leftover}{ext}')"
   ]
  },
  {
   "cell_type": "markdown",
   "metadata": {},
   "source": [
    "# Reference\n",
    "\n",
    "[Python Tutorial: Automate Parsing and Renaming of Multiple Files](https://www.youtube.com/watch?v=ve2pmm5JqmI)"
   ]
  },
  {
   "cell_type": "code",
   "execution_count": null,
   "metadata": {},
   "outputs": [],
   "source": []
  }
 ],
 "metadata": {
  "kernelspec": {
   "display_name": "Python 3",
   "language": "python",
   "name": "python3"
  },
  "language_info": {
   "codemirror_mode": {
    "name": "ipython",
    "version": 3
   },
   "file_extension": ".py",
   "mimetype": "text/x-python",
   "name": "python",
   "nbconvert_exporter": "python",
   "pygments_lexer": "ipython3",
   "version": "3.7.7"
  }
 },
 "nbformat": 4,
 "nbformat_minor": 4
}
