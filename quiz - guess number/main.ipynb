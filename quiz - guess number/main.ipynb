{
 "cells": [
  {
   "cell_type": "code",
   "execution_count": 2,
   "metadata": {},
   "outputs": [
    {
     "name": "stdout",
     "output_type": "stream",
     "text": [
      "환영합니다. 당신의 출생연도를 기입해 주세요.2020\n",
      "2020 <class 'str'>\n"
     ]
    }
   ],
   "source": [
    "a = input('환영합니다. 당신의 출생연도를 기입해 주세요.')\n",
    "print(a, type(a))"
   ]
  },
  {
   "cell_type": "code",
   "execution_count": 5,
   "metadata": {},
   "outputs": [
    {
     "data": {
      "text/plain": [
       "2002.0"
      ]
     },
     "execution_count": 5,
     "metadata": {},
     "output_type": "execute_result"
    }
   ],
   "source": [
    "float(int('2002'))"
   ]
  },
  {
   "cell_type": "code",
   "execution_count": 4,
   "metadata": {},
   "outputs": [
    {
     "data": {
      "text/plain": [
       "'2002'"
      ]
     },
     "execution_count": 4,
     "metadata": {},
     "output_type": "execute_result"
    }
   ],
   "source": [
    "str(2002)"
   ]
  },
  {
   "cell_type": "code",
   "execution_count": 3,
   "metadata": {},
   "outputs": [
    {
     "name": "stdout",
     "output_type": "stream",
     "text": [
      "1과 100사이의 숫자를 입력해 주세요.50\n",
      "숫자가 너무 작군요. 숫자를 키워보세요.\n",
      "1과 100사이의 숫자를 입력해 주세요.75\n",
      "숫자가 너무 작군요. 숫자를 키워보세요.\n",
      "1과 100사이의 숫자를 입력해 주세요.85\n",
      "숫자가 너무 작군요. 숫자를 키워보세요.\n",
      "1과 100사이의 숫자를 입력해 주세요.95\n",
      "숫자가 너무 크군요. 숫자를 줄여보세요.\n",
      "1과 100사이의 숫자를 입력해 주세요.90\n",
      "숫자가 너무 크군요. 숫자를 줄여보세요.\n",
      "1과 100사이의 숫자를 입력해 주세요.88\n",
      "숫자가 너무 작군요. 숫자를 키워보세요.\n",
      "1과 100사이의 숫자를 입력해 주세요.89\n",
      "축하합니다. 맟추셨네요.\n",
      "주어진 숫자 : 89\n",
      "당신의 최종 추측 : 89\n"
     ]
    }
   ],
   "source": [
    "# guessing game\n",
    "# 1부터 100까지 숫자 하나가 주어져 있는데 그 숫자를 맟추는 게임\n",
    "\n",
    "import random\n",
    "given_n = random.randint(1, 100) # 100이 포함됨\n",
    "num_tries = 10\n",
    "\n",
    "for i in range(1, num_tries+1):\n",
    "    your_guess = int(input('1과 100사이의 숫자를 입력해 주세요.'))\n",
    "    if given_n == your_guess: \n",
    "        print('축하합니다. 맟추셨네요.')\n",
    "        break\n",
    "    elif given_n > your_guess:\n",
    "        if i != num_tries: \n",
    "            print('숫자가 너무 작군요. 숫자를 키워보세요.')\n",
    "    else:\n",
    "        if i != num_tries: \n",
    "            print('숫자가 너무 크군요. 숫자를 줄여보세요.')\n",
    "else: # no break\n",
    "    print(f'아쉽군요. {i}번 추측하셨는 모두 실패하셨군요.')\n",
    "               \n",
    "print(f'주어진 숫자 : {given_n}')\n",
    "print(f'당신의 최종 추측 : {your_guess}')"
   ]
  },
  {
   "cell_type": "code",
   "execution_count": null,
   "metadata": {},
   "outputs": [],
   "source": []
  }
 ],
 "metadata": {
  "kernelspec": {
   "display_name": "Python 3",
   "language": "python",
   "name": "python3"
  },
  "language_info": {
   "codemirror_mode": {
    "name": "ipython",
    "version": 3
   },
   "file_extension": ".py",
   "mimetype": "text/x-python",
   "name": "python",
   "nbconvert_exporter": "python",
   "pygments_lexer": "ipython3",
   "version": "3.7.7"
  }
 },
 "nbformat": 4,
 "nbformat_minor": 4
}
