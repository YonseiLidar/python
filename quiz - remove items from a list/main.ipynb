{
 "cells": [
  {
   "cell_type": "markdown",
   "metadata": {},
   "source": [
    "Task: Remove items of the list a which are also members of another list b.\n",
    "\n",
    "Below is a code with bugs. Fix the code:\n",
    "\n",
    "```\n",
    "a = [1,2,3,4]\n",
    "b = [1,2,5,6]\n",
    "\n",
    "for item in a:\n",
    "    if item in b:\n",
    "        a.remove(item)\n",
    "\n",
    "print(a) # [2, 3, 4]\n",
    "```"
   ]
  },
  {
   "cell_type": "code",
   "execution_count": 1,
   "metadata": {},
   "outputs": [
    {
     "name": "stdout",
     "output_type": "stream",
     "text": [
      "현재 아이템 : 1\n",
      "제거되는 아이템 : 1, 제거 후 현재 리스트 a : [2, 3, 4]\n",
      "현재 아이템 : 3\n",
      "현재 아이템 : 4\n",
      "[2, 3, 4]\n"
     ]
    }
   ],
   "source": [
    "a = [1,2,3,4]\n",
    "b = [1,2,5,6]\n",
    "\n",
    "for item in a:\n",
    "    print(f'현재 아이템 : {item}')\n",
    "    if item in b:\n",
    "        a.remove(item)\n",
    "        print(f'제거되는 아이템 : {item}, 제거 후 현재 리스트 a : {a}')\n",
    "\n",
    "print(a) # [2, 3, 4]"
   ]
  },
  {
   "cell_type": "code",
   "execution_count": 2,
   "metadata": {},
   "outputs": [
    {
     "name": "stdout",
     "output_type": "stream",
     "text": [
      "리스트 a : [1, 2, 3, 4], 리스트 a의 아이디 : 140471071302432\n",
      "리스트 b : [1, 2, 3, 4], 리스트 b의 아이디 : 140471071302432\n"
     ]
    }
   ],
   "source": [
    "a = [1,2,3,4]\n",
    "b = a\n",
    "\n",
    "print(f'리스트 a : {a}, 리스트 a의 아이디 : {id(a)}') \n",
    "print(f'리스트 b : {b}, 리스트 b의 아이디 : {id(b)}') "
   ]
  },
  {
   "cell_type": "code",
   "execution_count": 3,
   "metadata": {},
   "outputs": [
    {
     "name": "stdout",
     "output_type": "stream",
     "text": [
      "리스트 a : [1, 2, 3, 4], 리스트 a의 아이디 : 140471071333184\n",
      "리스트 b : [1, 2, 3, 4], 리스트 b의 아이디 : 140471071132400\n"
     ]
    }
   ],
   "source": [
    "a = [1,2,3,4]\n",
    "b = a[:]\n",
    "\n",
    "print(f'리스트 a : {a}, 리스트 a의 아이디 : {id(a)}') \n",
    "print(f'리스트 b : {b}, 리스트 b의 아이디 : {id(b)}') "
   ]
  },
  {
   "cell_type": "code",
   "execution_count": 4,
   "metadata": {},
   "outputs": [
    {
     "name": "stdout",
     "output_type": "stream",
     "text": [
      "리스트 a : [1, 2, 3, 4], 리스트 a의 아이디 : 140471071137216\n",
      "리스트 a : [3, 4], 리스트 a의 아이디 : 140471071137216\n"
     ]
    }
   ],
   "source": [
    "a = [1,2,3,4]\n",
    "b = [1,2,5,6]\n",
    "print(f'리스트 a : {a}, 리스트 a의 아이디 : {id(a)}') \n",
    "\n",
    "for item in a[:]: # a 대신, a의 카피본인 a[:] 사용\n",
    "    if item in b:\n",
    "        a.remove(item)\n",
    "\n",
    "print(f'리스트 a : {a}, 리스트 a의 아이디 : {id(a)}')  "
   ]
  },
  {
   "cell_type": "code",
   "execution_count": 5,
   "metadata": {},
   "outputs": [
    {
     "name": "stdout",
     "output_type": "stream",
     "text": [
      "[2, 3, 4]\n"
     ]
    }
   ],
   "source": [
    "a = [1,2,3,4]\n",
    "b = [1,2,5,6]\n",
    "\n",
    "for item in a: \n",
    "    if item in b:\n",
    "        a.remove(item)\n",
    "        \n",
    "print(a)"
   ]
  },
  {
   "cell_type": "code",
   "execution_count": 6,
   "metadata": {},
   "outputs": [
    {
     "name": "stdout",
     "output_type": "stream",
     "text": [
      "[3, 4]\n"
     ]
    }
   ],
   "source": [
    "a = [1,2,3,4]\n",
    "b = [1,2,5,6]\n",
    "\n",
    "for item in a[:]: \n",
    "    if item in b:\n",
    "        a.remove(item)\n",
    "        \n",
    "print(a)"
   ]
  },
  {
   "cell_type": "code",
   "execution_count": 8,
   "metadata": {},
   "outputs": [
    {
     "name": "stdout",
     "output_type": "stream",
     "text": [
      "리스트 a : [1, 2, 3, 4], 리스트 a의 아이디 : 140471071136096\n",
      "리스트 a : [3, 4], 리스트 a의 아이디 : 140471071145248\n"
     ]
    }
   ],
   "source": [
    "a = [1,2,3,4]\n",
    "b = [1,2,5,6]\n",
    "print(f'리스트 a : {a}, 리스트 a의 아이디 : {id(a)}') \n",
    "\n",
    "a = [item for item in a if item not in b]\n",
    "      \n",
    "print(f'리스트 a : {a}, 리스트 a의 아이디 : {id(a)}') "
   ]
  },
  {
   "cell_type": "markdown",
   "metadata": {},
   "source": [
    "# Reference\n",
    "\n",
    "[6.0001 Introduction to Computer Science and Programming in Python. Fall 2016](https://www.youtube.com/watch?v=nykOeWgQcHM&list=PLUl4u3cNGP63WbdFxL8giv4yhgdMGaZNA)"
   ]
  },
  {
   "cell_type": "code",
   "execution_count": null,
   "metadata": {},
   "outputs": [],
   "source": []
  }
 ],
 "metadata": {
  "kernelspec": {
   "display_name": "Python 3",
   "language": "python",
   "name": "python3"
  },
  "language_info": {
   "codemirror_mode": {
    "name": "ipython",
    "version": 3
   },
   "file_extension": ".py",
   "mimetype": "text/x-python",
   "name": "python",
   "nbconvert_exporter": "python",
   "pygments_lexer": "ipython3",
   "version": "3.7.7"
  }
 },
 "nbformat": 4,
 "nbformat_minor": 4
}
