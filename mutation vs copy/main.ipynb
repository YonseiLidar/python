{
 "cells": [
  {
   "cell_type": "markdown",
   "metadata": {},
   "source": [
    "# append vs list concatenation"
   ]
  },
  {
   "cell_type": "code",
   "execution_count": 1,
   "metadata": {},
   "outputs": [
    {
     "name": "stdout",
     "output_type": "stream",
     "text": [
      "[1, 2, 3] 140267995393392\n",
      "[1, 2, 3, 4] 140267995393392\n"
     ]
    }
   ],
   "source": [
    "a = [1,2,3] # both are same object\n",
    "print(a, id(a))\n",
    "a.append(4) # both are same object (mutate object)\n",
    "print(a, id(a))"
   ]
  },
  {
   "cell_type": "code",
   "execution_count": 2,
   "metadata": {},
   "outputs": [
    {
     "name": "stdout",
     "output_type": "stream",
     "text": [
      "[1, 2, 3] 140268538581152\n",
      "[1, 2, 3, 4] 140268805045456\n"
     ]
    }
   ],
   "source": [
    "b = [1,2,3] # they are different object\n",
    "print(b, id(b))\n",
    "b = b + [4] # they are different object (copy object)\n",
    "print(b, id(b))"
   ]
  },
  {
   "cell_type": "markdown",
   "metadata": {},
   "source": [
    "# extend vs list concatenation"
   ]
  },
  {
   "cell_type": "code",
   "execution_count": 3,
   "metadata": {},
   "outputs": [
    {
     "name": "stdout",
     "output_type": "stream",
     "text": [
      "[1, 2, 3] 140268804908288\n",
      "[1, 2, 3, 4, 5, 6] 140268804908288\n"
     ]
    }
   ],
   "source": [
    "a = [1,2,3] # both are same object\n",
    "print(a, id(a))\n",
    "a.extend([4,5,6]) # both are same object (mutate object)\n",
    "print(a, id(a))"
   ]
  },
  {
   "cell_type": "code",
   "execution_count": 4,
   "metadata": {},
   "outputs": [
    {
     "name": "stdout",
     "output_type": "stream",
     "text": [
      "[1, 2, 3] 140268538378032\n",
      "[1, 2, 3, 4, 5, 6] 140267461500592\n"
     ]
    }
   ],
   "source": [
    "b = [1,2,3] # they are different object\n",
    "print(b, id(b))\n",
    "b = b + [4,5,6] # they are different object (copy object)\n",
    "print(b, id(b))"
   ]
  },
  {
   "cell_type": "markdown",
   "metadata": {},
   "source": [
    "# clear, pop, remove, del vs list comprehension"
   ]
  },
  {
   "cell_type": "markdown",
   "metadata": {},
   "source": [
    "Remove all items: clear()\n",
    "\n",
    "Remove an item by index and get its value: pop()\n",
    "\n",
    "Remove an item by value: remove()\n",
    "\n",
    "Remove items by index or slice: del\n",
    "\n",
    "Remove multiple items that meet the condition: List comprehensions\n",
    "\n",
    "[Remove an item from a list in Python (clear, pop, remove, del)](https://note.nkmk.me/en/python-list-clear-pop-remove-del/)"
   ]
  },
  {
   "cell_type": "code",
   "execution_count": 5,
   "metadata": {},
   "outputs": [
    {
     "name": "stdout",
     "output_type": "stream",
     "text": [
      "[1, 2, 3, 1, 2, 3] 140268538534000\n",
      "[] 140268538534000\n"
     ]
    }
   ],
   "source": [
    "a = [1,2,3,1,2,3] # both are same object\n",
    "print(a, id(a))\n",
    "a.clear() # both are same object (mutate object)\n",
    "print(a, id(a))"
   ]
  },
  {
   "cell_type": "code",
   "execution_count": 6,
   "metadata": {},
   "outputs": [
    {
     "name": "stdout",
     "output_type": "stream",
     "text": [
      "[1, 2, 3, 1, 2, 3] 140267995392832\n",
      "[1, 2, 3, 1, 2] 140267995392832\n"
     ]
    }
   ],
   "source": [
    "a = [1,2,3,1,2,3] # both are same object\n",
    "print(a, id(a))\n",
    "a.pop() # both are same object (mutate object)\n",
    "print(a, id(a))"
   ]
  },
  {
   "cell_type": "code",
   "execution_count": 7,
   "metadata": {},
   "outputs": [
    {
     "name": "stdout",
     "output_type": "stream",
     "text": [
      "[1, 2, 3, 1, 2, 3] 140267995335888\n",
      "[1, 2, 1, 2, 3] 140267995335888\n"
     ]
    }
   ],
   "source": [
    "a = [1,2,3,1,2,3] # both are same object\n",
    "print(a, id(a))\n",
    "a.remove(3) # both are same object (mutate object)\n",
    "print(a, id(a))"
   ]
  },
  {
   "cell_type": "code",
   "execution_count": 8,
   "metadata": {},
   "outputs": [
    {
     "name": "stdout",
     "output_type": "stream",
     "text": [
      "[1, 2, 3, 1, 2, 3] 140267995396688\n",
      "[1, 2, 3] 140267995396688\n"
     ]
    }
   ],
   "source": [
    "a = [1,2,3,1,2,3] # both are same object\n",
    "print(a, id(a))\n",
    "del a[-3:] # both are same object (mutate object)\n",
    "print(a, id(a))"
   ]
  },
  {
   "cell_type": "code",
   "execution_count": 9,
   "metadata": {},
   "outputs": [
    {
     "name": "stdout",
     "output_type": "stream",
     "text": [
      "[1, 2, 3, 1, 2, 3] 140268538372336\n",
      "[1, 2, 1, 2] 140267461500592\n"
     ]
    }
   ],
   "source": [
    "b = [1,2,3,1,2,3] # they are different object\n",
    "print(b, id(b))\n",
    "b = [i for i in b if i != 3] # they are different object (copy object)\n",
    "print(b, id(b))"
   ]
  },
  {
   "cell_type": "markdown",
   "metadata": {},
   "source": [
    "# sort vs sorted"
   ]
  },
  {
   "cell_type": "code",
   "execution_count": 10,
   "metadata": {},
   "outputs": [
    {
     "name": "stdout",
     "output_type": "stream",
     "text": [
      "[1, 2, 3, 1, 2, 3] 140268538370400\n",
      "[1, 1, 2, 2, 3, 3] 140268538370400\n"
     ]
    }
   ],
   "source": [
    "a = [1,2,3,1,2,3] # both are same object\n",
    "print(a, id(a))\n",
    "a.sort() # both are same object (mutate object)\n",
    "print(a, id(a))"
   ]
  },
  {
   "cell_type": "code",
   "execution_count": 11,
   "metadata": {},
   "outputs": [
    {
     "name": "stdout",
     "output_type": "stream",
     "text": [
      "[1, 2, 3, 1, 2, 3] 140267995397568\n",
      "[1, 1, 2, 2, 3, 3] 140267461500592\n"
     ]
    }
   ],
   "source": [
    "b = [1,2,3,1,2,3] # they are different object\n",
    "print(b, id(b))\n",
    "b = sorted(b) # they are different object (copy object)\n",
    "print(b, id(b))"
   ]
  },
  {
   "cell_type": "code",
   "execution_count": 12,
   "metadata": {},
   "outputs": [
    {
     "name": "stdout",
     "output_type": "stream",
     "text": [
      "[1, 2, 3, 1, 2, 3] 140268538376512\n",
      "[3, 3, 2, 2, 1, 1] 140268538376512\n"
     ]
    }
   ],
   "source": [
    "a = [1,2,3,1,2,3] # both are same object\n",
    "print(a, id(a))\n",
    "a.sort(reverse=True) # both are same object (mutate object)\n",
    "print(a, id(a))"
   ]
  },
  {
   "cell_type": "code",
   "execution_count": 13,
   "metadata": {},
   "outputs": [
    {
     "name": "stdout",
     "output_type": "stream",
     "text": [
      "[1, 2, 3, 1, 2, 3] 140268538376272\n",
      "[3, 3, 2, 2, 1, 1] 140267461500592\n"
     ]
    }
   ],
   "source": [
    "b = [1,2,3,1,2,3] # they are different object\n",
    "print(b, id(b))\n",
    "b = sorted(b, reverse=True) # they are different object (copy object)\n",
    "print(b, id(b))"
   ]
  },
  {
   "cell_type": "markdown",
   "metadata": {},
   "source": [
    "# reverse"
   ]
  },
  {
   "cell_type": "code",
   "execution_count": 14,
   "metadata": {},
   "outputs": [
    {
     "name": "stdout",
     "output_type": "stream",
     "text": [
      "[1, 2, 3, 1, 2, 3] 140268804959680\n",
      "[3, 2, 1, 3, 2, 1] 140268804959680\n"
     ]
    }
   ],
   "source": [
    "a = [1,2,3,1,2,3] # both are same object\n",
    "print(a, id(a))\n",
    "a.reverse() # both are same object (mutate object)\n",
    "print(a, id(a))"
   ]
  },
  {
   "cell_type": "code",
   "execution_count": null,
   "metadata": {},
   "outputs": [],
   "source": []
  }
 ],
 "metadata": {
  "kernelspec": {
   "display_name": "Python 3",
   "language": "python",
   "name": "python3"
  },
  "language_info": {
   "codemirror_mode": {
    "name": "ipython",
    "version": 3
   },
   "file_extension": ".py",
   "mimetype": "text/x-python",
   "name": "python",
   "nbconvert_exporter": "python",
   "pygments_lexer": "ipython3",
   "version": "3.7.7"
  }
 },
 "nbformat": 4,
 "nbformat_minor": 4
}
