{
 "cells": [
  {
   "cell_type": "code",
   "execution_count": 14,
   "metadata": {},
   "outputs": [
    {
     "name": "stdout",
     "output_type": "stream",
     "text": [
      "8s\n"
     ]
    }
   ],
   "source": [
    "import random\n",
    "\n",
    "numbers = ['1', '2', '3', '4', '5', '6', '7', '8', '9', '10', '11', '12', '13']\n",
    "shapes = ['s', 'd', 'h', 'c'] # 무늬: 스페이드, 다이아몬드, 하트, 클로버\n",
    "\n",
    "number = random.choice(numbers)\n",
    "shape = random.choice(shapes)\n",
    "card = number + shape\n",
    "print(card)"
   ]
  },
  {
   "cell_type": "code",
   "execution_count": 17,
   "metadata": {},
   "outputs": [
    {
     "name": "stdout",
     "output_type": "stream",
     "text": [
      "['10h', '13c', '4c', '4d', '9h']\n"
     ]
    }
   ],
   "source": [
    "import random\n",
    "\n",
    "numbers = ['1', '2', '3', '4', '5', '6', '7', '8', '9', '10', '11', '12', '13']\n",
    "shapes = ['s', 'd', 'h', 'c'] # 무늬: 스페이드, 다이아몬드, 하트, 클로버\n",
    "\n",
    "chosen_cards = []\n",
    "n_chosen_cards = 0\n",
    "while n_chosen_cards < 5: \n",
    "    number = random.choice(numbers)\n",
    "    shape = random.choice(shapes)\n",
    "    card = number + shape\n",
    "    if card not in chosen_cards:\n",
    "        chosen_cards.append(card)\n",
    "        n_chosen_cards += 1\n",
    "        \n",
    "chosen_cards.sort()        \n",
    "print(chosen_cards)"
   ]
  },
  {
   "cell_type": "code",
   "execution_count": 3,
   "metadata": {},
   "outputs": [
    {
     "name": "stdout",
     "output_type": "stream",
     "text": [
      "['10s', '11d', '11s', '13s', '6h']\n",
      "['13c', '2d', '4s', '6s', '9s']\n",
      "['10s', '11d', '11s', '13c', '13s', '2d', '4s', '6h', '6s', '9s']\n"
     ]
    }
   ],
   "source": [
    "import random\n",
    "\n",
    "numbers = ['1', '2', '3', '4', '5', '6', '7', '8', '9', '10', '11', '12', '13']\n",
    "shapes = ['s', 'd', 'h', 'c'] # 무늬: 스페이드, 다이아몬드, 하트, 클로버\n",
    "\n",
    "my_cards = []\n",
    "your_cards = []\n",
    "whole_cards = []\n",
    "n_my_cards = 0\n",
    "n_your_cards = 0\n",
    "n_whole_cards = 0\n",
    "\n",
    "while n_my_cards < 5: \n",
    "    number = random.choice(numbers)\n",
    "    shape = random.choice(shapes)\n",
    "    card = number + shape\n",
    "    if card not in whole_cards:\n",
    "        my_cards.append(card)\n",
    "        whole_cards.append(card)\n",
    "        n_my_cards += 1\n",
    "        n_whole_cards += 1\n",
    "        \n",
    "while n_your_cards < 5: \n",
    "    number = random.choice(numbers)\n",
    "    shape = random.choice(shapes)\n",
    "    card = number + shape\n",
    "    if card not in whole_cards:\n",
    "        your_cards.append(card)\n",
    "        whole_cards.append(card)\n",
    "        n_your_cards += 1\n",
    "        n_whole_cards += 1\n",
    "        \n",
    "my_cards.sort() \n",
    "your_cards.sort()\n",
    "whole_cards.sort()\n",
    "print(my_cards)\n",
    "print(your_cards)\n",
    "print(whole_cards)"
   ]
  },
  {
   "cell_type": "code",
   "execution_count": 18,
   "metadata": {},
   "outputs": [
    {
     "data": {
      "image/png": "[encoded data removed]",
      "text/plain": [
       "<Figure size 432x288 with 5 Axes>"
      ]
     },
     "metadata": {},
     "output_type": "display_data"
    },
    {
     "data": {
      "image/png": "[encoded data removed]",
      "text/plain": [
       "<Figure size 432x288 with 5 Axes>"
      ]
     },
     "metadata": {},
     "output_type": "display_data"
    }
   ],
   "source": [
    "def get_next(whole_cards=None):\n",
    "    \"\"\"\n",
    "    whole_cards is either None or a list of cards at hands.\n",
    "    This function will return a next card.\n",
    "    \"\"\"\n",
    "    \n",
    "    import random\n",
    "\n",
    "    numbers = ['1', '2', '3', '4', '5', '6', '7', '8', '9', '10', '11', '12', '13']\n",
    "    shapes = ['s', 'd', 'h', 'c'] # 무늬: 스페이드, 다이아몬드, 하트, 클로버\n",
    "      \n",
    "    if whole_cards is None: whole_cards = []\n",
    "\n",
    "    while True: \n",
    "        number = random.choice(numbers)\n",
    "        shape = random.choice(shapes)\n",
    "        card = number + shape\n",
    "        if card not in whole_cards:\n",
    "            break\n",
    "    \n",
    "    return card\n",
    "        \n",
    "\n",
    "my_cards = []\n",
    "your_cards = []\n",
    "whole_cards = []\n",
    "\n",
    "for i in range(5):\n",
    "    card = get_next(whole_cards=whole_cards)\n",
    "    my_cards.append(card)\n",
    "    whole_cards.append(card)\n",
    "    \n",
    "    card = get_next(whole_cards=whole_cards)\n",
    "    your_cards.append(card)\n",
    "    whole_cards.append(card)\n",
    "\n",
    "my_cards.sort() \n",
    "your_cards.sort()\n",
    "whole_cards.sort()\n",
    "# print(my_cards)\n",
    "# print(your_cards)\n",
    "# print(whole_cards) \n",
    "\n",
    "def display(my_cards):\n",
    "    import matplotlib.pyplot as plt\n",
    "    import numpy as np\n",
    "    from PIL import Image\n",
    "    fig, axes = plt.subplots(1, 5) # axes.shape = (5,)\n",
    "    for i, my_card in enumerate(my_cards):\n",
    "        img = Image.open(f'DECK/{my_card}.gif').convert('RGB') # PIL.Image.Image\n",
    "        axes[i].imshow(img)\n",
    "        axes[i].set_xticks([])\n",
    "        axes[i].set_yticks([])\n",
    "    plt.show()\n",
    "    \n",
    "display(my_cards)\n",
    "display(your_cards)"
   ]
  },
  {
   "cell_type": "markdown",
   "metadata": {},
   "source": [
    "# Reference\n",
    "\n",
    "[BlackJackPython](https://github.com/georgemcredmond/BlackJackPython)\n",
    "\n",
    "[Using Matplotlib imshow to show GIF image](https://stackoverflow.com/questions/20058200/using-matplotlib-imshow-to-show-gif-image)\n",
    "\n",
    "[파이썬 코딩 무료 강의 (활용편2) - GUI 프로그래밍을 배우고 '여러 이미지 합치기' 프로그램을 함께 만들어요. [나도코딩]](https://www.youtube.com/watch?v=bKPIcoou9N8)"
   ]
  },
  {
   "cell_type": "code",
   "execution_count": null,
   "metadata": {},
   "outputs": [],
   "source": []
  }
 ],
 "metadata": {
  "kernelspec": {
   "display_name": "Python 3",
   "language": "python",
   "name": "python3"
  },
  "language_info": {
   "codemirror_mode": {
    "name": "ipython",
    "version": 3
   },
   "file_extension": ".py",
   "mimetype": "text/x-python",
   "name": "python",
   "nbconvert_exporter": "python",
   "pygments_lexer": "ipython3",
   "version": "3.7.7"
  }
 },
 "nbformat": 4,
 "nbformat_minor": 4
}
