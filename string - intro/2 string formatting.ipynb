{
 "cells": [
  {
   "cell_type": "markdown",
   "metadata": {},
   "source": [
    "# string concatenation"
   ]
  },
  {
   "cell_type": "code",
   "execution_count": 2,
   "metadata": {},
   "outputs": [
    {
     "name": "stdout",
     "output_type": "stream",
     "text": [
      "HelloWorld\n"
     ]
    }
   ],
   "source": [
    "print('Hello' + 'World')"
   ]
  },
  {
   "cell_type": "code",
   "execution_count": 4,
   "metadata": {},
   "outputs": [
    {
     "name": "stdout",
     "output_type": "stream",
     "text": [
      "HelloHelloHelloHello\n"
     ]
    }
   ],
   "source": [
    "print('Hello' * 4)"
   ]
  },
  {
   "cell_type": "code",
   "execution_count": 5,
   "metadata": {},
   "outputs": [
    {
     "name": "stdout",
     "output_type": "stream",
     "text": [
      "\n"
     ]
    }
   ],
   "source": [
    "print('Hello' * 0)"
   ]
  },
  {
   "cell_type": "code",
   "execution_count": 6,
   "metadata": {},
   "outputs": [
    {
     "name": "stdout",
     "output_type": "stream",
     "text": [
      "\n"
     ]
    }
   ],
   "source": [
    "print('')"
   ]
  },
  {
   "cell_type": "code",
   "execution_count": 10,
   "metadata": {},
   "outputs": [
    {
     "name": "stdout",
     "output_type": "stream",
     "text": [
      "하이. 이규원입니다. 저는 여러분에게 지금 파이썬을 설명하고 있습니다.\n"
     ]
    }
   ],
   "source": [
    "greeting = '하이.'\n",
    "name = '이규원'\n",
    "subject = '파이썬'\n",
    "print(greeting + ' ' + name + '입니다. 저는 여러분에게 지금 ' + subject + '을 설명하고 있습니다.')"
   ]
  },
  {
   "cell_type": "markdown",
   "metadata": {},
   "source": [
    "# placeholder"
   ]
  },
  {
   "cell_type": "markdown",
   "metadata": {},
   "source": [
    "- 데이타 타입 지정 (s, d)\n",
    "- 순서 고정\n",
    "- 오퍼레이션 불가능"
   ]
  },
  {
   "cell_type": "code",
   "execution_count": 15,
   "metadata": {},
   "outputs": [
    {
     "name": "stdout",
     "output_type": "stream",
     "text": [
      "안녕하세요. 박한나입니다. 저는 여러분에게 지금 스트링을 설명하고 있습니다.\n"
     ]
    }
   ],
   "source": [
    "greeting = '안녕하세요.'\n",
    "name = '박한나'\n",
    "subject = '스트링'\n",
    "print('%s %s입니다. 저는 여러분에게 지금 %s을 설명하고 있습니다.' % (greeting, name, subject))"
   ]
  },
  {
   "cell_type": "code",
   "execution_count": 17,
   "metadata": {},
   "outputs": [
    {
     "name": "stdout",
     "output_type": "stream",
     "text": [
      "안녕하세요. 이승철입니다. 저는 50살 입니다.\n"
     ]
    }
   ],
   "source": [
    "greeting = '안녕하세요.'\n",
    "name = '이승철'\n",
    "age = 50\n",
    "print('%s %s입니다. 저는 %d살 입니다.' % (greeting, name, age))"
   ]
  },
  {
   "cell_type": "markdown",
   "metadata": {},
   "source": [
    "# format string"
   ]
  },
  {
   "cell_type": "markdown",
   "metadata": {},
   "source": [
    "- 데이타 타입 지정 불필요 \n",
    "- 순서 유도리 있슴\n",
    "- 오퍼레이션 불가능"
   ]
  },
  {
   "cell_type": "code",
   "execution_count": 18,
   "metadata": {},
   "outputs": [
    {
     "name": "stdout",
     "output_type": "stream",
     "text": [
      "안녕하세요. 이승철입니다. 저는 여러분에게 지금 스트링을 설명하고 있습니다.\n"
     ]
    }
   ],
   "source": [
    "greeting = '안녕하세요.'\n",
    "name = '이승철'\n",
    "subject = '스트링'\n",
    "print('{} {}입니다. 저는 여러분에게 지금 {}을 설명하고 있습니다.'.format(greeting, name, subject))"
   ]
  },
  {
   "cell_type": "code",
   "execution_count": 19,
   "metadata": {},
   "outputs": [
    {
     "name": "stdout",
     "output_type": "stream",
     "text": [
      "안녕하세요. 이승철입니다. 저는 여러분에게 지금 스트링을 설명하고 있습니다.\n"
     ]
    }
   ],
   "source": [
    "greeting = '안녕하세요.'\n",
    "name = '이승철'\n",
    "subject = '스트링'\n",
    "print('{0} {1}입니다. 저는 여러분에게 지금 {2}을 설명하고 있습니다.'.format(greeting, name, subject))"
   ]
  },
  {
   "cell_type": "code",
   "execution_count": 20,
   "metadata": {},
   "outputs": [
    {
     "name": "stdout",
     "output_type": "stream",
     "text": [
      "스트링 이승철입니다. 저는 여러분에게 지금 안녕하세요.을 설명하고 있습니다.\n"
     ]
    }
   ],
   "source": [
    "greeting = '안녕하세요.'\n",
    "name = '이승철'\n",
    "subject = '스트링'\n",
    "print('{2} {1}입니다. 저는 여러분에게 지금 {0}을 설명하고 있습니다.'.format(greeting, name, subject))"
   ]
  },
  {
   "cell_type": "code",
   "execution_count": 21,
   "metadata": {},
   "outputs": [
    {
     "name": "stdout",
     "output_type": "stream",
     "text": [
      "스트링 스트링입니다. 저는 여러분에게 지금 스트링을 설명하고 있습니다.\n"
     ]
    }
   ],
   "source": [
    "greeting = '안녕하세요.'\n",
    "name = '이승철'\n",
    "subject = '스트링'\n",
    "print('{2} {2}입니다. 저는 여러분에게 지금 {2}을 설명하고 있습니다.'.format(greeting, name, subject))"
   ]
  },
  {
   "cell_type": "markdown",
   "metadata": {},
   "source": [
    "# f string"
   ]
  },
  {
   "cell_type": "markdown",
   "metadata": {},
   "source": [
    "- 데이타 타입 지정 불필요 \n",
    "- 순서 유도리 있슴\n",
    "- 오퍼레이션 가능"
   ]
  },
  {
   "cell_type": "code",
   "execution_count": 23,
   "metadata": {},
   "outputs": [
    {
     "name": "stdout",
     "output_type": "stream",
     "text": [
      "안녕하세요. 이승철입니다. 저는 여러분에게 지금 스트링을 설명하고 있습니다.\n"
     ]
    }
   ],
   "source": [
    "greeting = '안녕하세요.'\n",
    "name = '이승철'\n",
    "subject = '스트링'\n",
    "print(f'{greeting} {name}입니다. 저는 여러분에게 지금 {subject}을 설명하고 있습니다.')"
   ]
  },
  {
   "cell_type": "code",
   "execution_count": 26,
   "metadata": {},
   "outputs": [
    {
     "name": "stdout",
     "output_type": "stream",
     "text": [
      "안녕하세요. 이승철입니다. 저는 20살 입니다.\n"
     ]
    }
   ],
   "source": [
    "greeting = '안녕하세요.'\n",
    "name = '이승철'\n",
    "age = 50\n",
    "print(f'{greeting} {name}입니다. 저는 {age-30}살 입니다.')"
   ]
  },
  {
   "cell_type": "code",
   "execution_count": 33,
   "metadata": {},
   "outputs": [
    {
     "name": "stdout",
     "output_type": "stream",
     "text": [
      "월\n"
     ]
    }
   ],
   "source": [
    "a = '헬로 월드'\n",
    "#    0 1 2 3 4 <--- indexing \n",
    "#  -5 -4 -3 -2 -1 <--- negative indexing\n",
    "print(a[-2])"
   ]
  },
  {
   "cell_type": "code",
   "execution_count": 43,
   "metadata": {},
   "outputs": [
    {
     "name": "stdout",
     "output_type": "stream",
     "text": [
      "Character            H     I           D     O    \n",
      "(Positive) Index     0     1     2     3     4    \n",
      "Negative Index       -5    -4    -3    -2    -1   \n"
     ]
    }
   ],
   "source": [
    "#a = '헬로 월드'\n",
    "a = 'HI DO'\n",
    "\n",
    "title0 = 'Character'\n",
    "title1 = '(Positive) Index'\n",
    "title2 = 'Negative Index'\n",
    "print(f'{title0:20} {a[0]:5} {a[1]:5} {a[2]:5} {a[3]:5} {a[4]:5}')\n",
    "print(f'{title1:20} {0:<5} {1:<5} {2:<5} {3:<5} {4:<5}')\n",
    "print(f'{title2:20} {-5:<5} {-4:<5} {-3:<5} {-2:<5} {-1:<5}')"
   ]
  },
  {
   "cell_type": "code",
   "execution_count": null,
   "metadata": {},
   "outputs": [],
   "source": []
  }
 ],
 "metadata": {
  "kernelspec": {
   "display_name": "Python 3",
   "language": "python",
   "name": "python3"
  },
  "language_info": {
   "codemirror_mode": {
    "name": "ipython",
    "version": 3
   },
   "file_extension": ".py",
   "mimetype": "text/x-python",
   "name": "python",
   "nbconvert_exporter": "python",
   "pygments_lexer": "ipython3",
   "version": "3.7.7"
  }
 },
 "nbformat": 4,
 "nbformat_minor": 4
}
