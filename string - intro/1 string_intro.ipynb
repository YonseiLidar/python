{
 "cells": [
  {
   "cell_type": "code",
   "execution_count": 2,
   "metadata": {},
   "outputs": [
    {
     "name": "stdout",
     "output_type": "stream",
     "text": [
      "헬로 월드 <class 'str'>\n"
     ]
    }
   ],
   "source": [
    "#print('헬로 월드', type('헬로 월드'))\n",
    "print(\"헬로 월드\", type(\"헬로 월드\"))"
   ]
  },
  {
   "cell_type": "code",
   "execution_count": 3,
   "metadata": {},
   "outputs": [
    {
     "name": "stdout",
     "output_type": "stream",
     "text": [
      "헬로 월드 <class 'str'>\n"
     ]
    }
   ],
   "source": [
    "a = '헬로 월드' \n",
    "print(a, type(a))"
   ]
  },
  {
   "cell_type": "markdown",
   "metadata": {},
   "source": [
    "# escape character"
   ]
  },
  {
   "cell_type": "markdown",
   "metadata": {},
   "source": [
    "링컨이 말했다 'Government of the people, by the people, for the people'"
   ]
  },
  {
   "cell_type": "code",
   "execution_count": 8,
   "metadata": {},
   "outputs": [
    {
     "name": "stdout",
     "output_type": "stream",
     "text": [
      "링컨이 말했다 \"Government of the people, by the people, for the people\" <class 'str'>\n"
     ]
    }
   ],
   "source": [
    "#a = '링컨이 말했다 'Government of the people, by the people, for the people'' # 에러\n",
    "#a = '링컨이 말했다 \\'Government of the people, by the people, for the people\\'' # escape character \n",
    "a = '링컨이 말했다 \"Government of the people, by the people, for the people\"'\n",
    "print(a, type(a))"
   ]
  },
  {
   "cell_type": "code",
   "execution_count": 14,
   "metadata": {},
   "outputs": [
    {
     "name": "stdout",
     "output_type": "stream",
     "text": [
      "링컨이 말했다 \t\"Government of the people, by the people, for the people\" <class 'str'>\n"
     ]
    }
   ],
   "source": [
    "#a = '링컨이 말했다 n\"Government of the people, by the people, for the people\"' # 줄을 바꾸고 싶은데\n",
    "a = '링컨이 말했다 \\n\"Government of the people, by the people, for the people\"' # escape character\n",
    "print(a, type(a))"
   ]
  },
  {
   "cell_type": "code",
   "execution_count": 7,
   "metadata": {},
   "outputs": [
    {
     "name": "stdout",
     "output_type": "stream",
     "text": [
      "링컨이 말했다 \t\"Government of the people, by the people, for the people\" <class 'str'>\n"
     ]
    }
   ],
   "source": [
    "#a = '링컨이 말했다 t\"Government of the people, by the people, for the people\"' # 텝을 주고싶은데\n",
    "a = '링컨이 말했다 \\t\"Government of the people, by the people, for the people\"' # escape character\n",
    "print(a, type(a))"
   ]
  },
  {
   "cell_type": "markdown",
   "metadata": {},
   "source": [
    "# raw string"
   ]
  },
  {
   "cell_type": "code",
   "execution_count": 18,
   "metadata": {},
   "outputs": [
    {
     "name": "stdout",
     "output_type": "stream",
     "text": [
      "링컨이 말했다 \\n\"Government of the people, by the people, for the people\" <class 'str'>\n"
     ]
    }
   ],
   "source": [
    "#a = '링컨이 말했다 \\n\"Government of the people, by the people, for the people\"' # escape character \n",
    "#a = '링컨이 말했다 \\\\n\"Government of the people, by the people, for the people\"'\n",
    "a = r'링컨이 말했다 \\n\"Government of the people, by the people, for the people\"' # raw string \n",
    "print(a, type(a))"
   ]
  },
  {
   "cell_type": "code",
   "execution_count": null,
   "metadata": {},
   "outputs": [],
   "source": []
  }
 ],
 "metadata": {
  "kernelspec": {
   "display_name": "Python 3",
   "language": "python",
   "name": "python3"
  },
  "language_info": {
   "codemirror_mode": {
    "name": "ipython",
    "version": 3
   },
   "file_extension": ".py",
   "mimetype": "text/x-python",
   "name": "python",
   "nbconvert_exporter": "python",
   "pygments_lexer": "ipython3",
   "version": "3.7.7"
  }
 },
 "nbformat": 4,
 "nbformat_minor": 4
}
