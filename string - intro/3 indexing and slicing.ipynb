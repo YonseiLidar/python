{
 "cells": [
  {
   "cell_type": "markdown",
   "metadata": {},
   "source": [
    "# indexing"
   ]
  },
  {
   "cell_type": "code",
   "execution_count": 1,
   "metadata": {},
   "outputs": [
    {
     "name": "stdout",
     "output_type": "stream",
     "text": [
      "Character            헬     로           월     드    \n",
      "(Positive) Index     0     1     2     3     4    \n",
      "Negative Index       -5    -4    -3    -2    -1   \n"
     ]
    }
   ],
   "source": [
    "a = '헬로 월드'\n",
    "\n",
    "title0 = 'Character'\n",
    "title1 = '(Positive) Index'\n",
    "title2 = 'Negative Index'\n",
    "print(f'{title0:20} {a[0]:<5} {a[1]:<5} {a[2]:<5} {a[3]:<5} {a[4]:<5}')\n",
    "print(f'{title1:20} {0:<5} {1:<5} {2:<5} {3:<5} {4:<5}')\n",
    "print(f'{title2:20} {-5:<5} {-4:<5} {-3:<5} {-2:<5} {-1:<5}')"
   ]
  },
  {
   "cell_type": "code",
   "execution_count": 2,
   "metadata": {},
   "outputs": [
    {
     "name": "stdout",
     "output_type": "stream",
     "text": [
      "헬\n",
      "월\n",
      " \n",
      "드\n",
      "월\n",
      " \n"
     ]
    }
   ],
   "source": [
    "print(a[0]) # 링\n",
    "print(a[3]) # \"\n",
    "print(a[2]) # \n",
    "print(a[-1]) # \" \n",
    "print(a[-2]) # e \n",
    "print(a[-3]) # l "
   ]
  },
  {
   "cell_type": "markdown",
   "metadata": {},
   "source": [
    "# slicing"
   ]
  },
  {
   "cell_type": "code",
   "execution_count": 3,
   "metadata": {},
   "outputs": [
    {
     "name": "stdout",
     "output_type": "stream",
     "text": [
      "Character            헬     로           월     드    \n",
      "(Positive) Index     0     1     2     3     4    \n",
      "Negative Index       -5    -4    -3    -2    -1   \n"
     ]
    }
   ],
   "source": [
    "a = '헬로 월드'\n",
    "\n",
    "title0 = 'Character'\n",
    "title1 = '(Positive) Index'\n",
    "title2 = 'Negative Index'\n",
    "print(f'{title0:20} {a[0]:<5} {a[1]:<5} {a[2]:<5} {a[3]:<5} {a[4]:<5}')\n",
    "print(f'{title1:20} {0:<5} {1:<5} {2:<5} {3:<5} {4:<5}')\n",
    "print(f'{title2:20} {-5:<5} {-4:<5} {-3:<5} {-2:<5} {-1:<5}')   "
   ]
  },
  {
   "cell_type": "code",
   "execution_count": 9,
   "metadata": {},
   "outputs": [
    {
     "name": "stdout",
     "output_type": "stream",
     "text": [
      "드월 로헬\n"
     ]
    }
   ],
   "source": [
    "#print(a[1:4]) \n",
    "#print(a[1:-1]) \n",
    "#print(a[:4]) \n",
    "#print(a[1:]) \n",
    "#print(a[1:4:2]) \n",
    "#print(a[4:1:-1]) \n",
    "print(a[::-1]) "
   ]
  },
  {
   "cell_type": "code",
   "execution_count": null,
   "metadata": {},
   "outputs": [],
   "source": []
  }
 ],
 "metadata": {
  "kernelspec": {
   "display_name": "Python 3",
   "language": "python",
   "name": "python3"
  },
  "language_info": {
   "codemirror_mode": {
    "name": "ipython",
    "version": 3
   },
   "file_extension": ".py",
   "mimetype": "text/x-python",
   "name": "python",
   "nbconvert_exporter": "python",
   "pygments_lexer": "ipython3",
   "version": "3.7.7"
  }
 },
 "nbformat": 4,
 "nbformat_minor": 4
}
