{
 "cells": [
  {
   "cell_type": "markdown",
   "metadata": {
    "collapsed": true
   },
   "source": [
    "# Aliasing, Copy, and Deep Copy"
   ]
  },
  {
   "cell_type": "markdown",
   "metadata": {},
   "source": [
    "[softwarecarpentry](https://www.youtube.com/watch?v=7m_cw30tyr0)\n",
    "[Real_Python](https://realpython.com/copying-python-objects/)\n",
    "[RSI](http://interactivepython.org/runestone/static/thinkcspy/Lists/Aliasing.html)"
   ]
  },
  {
   "cell_type": "markdown",
   "metadata": {},
   "source": [
    "# Aliasing"
   ]
  },
  {
   "cell_type": "markdown",
   "metadata": {},
   "source": [
    "aliasing 문제는 mutable 객체에서만 일어납니다. mutable 객체에는 list, dict, set이 대표적입니다. 반면 immutable 객체인 숫자형,문자,튜플 등에서는 일어나지 않습니다.\n",
    "\n",
    "https://www.codeit.kr/questions/1913"
   ]
  },
  {
   "cell_type": "code",
   "execution_count": 1,
   "metadata": {},
   "outputs": [
    {
     "name": "stdout",
     "output_type": "stream",
     "text": [
      "1 4304818016\n",
      "1 4304818016\n",
      "\n",
      "2 4304818048\n",
      "1 4304818016\n"
     ]
    }
   ],
   "source": [
    "a = 1 \n",
    "b = a\n",
    "print(a, id(a)) # 1\n",
    "print(b, id(b)) # 1\n",
    "print()\n",
    "\n",
    "a = 2\n",
    "print(a, id(a)) # 2 \n",
    "print(b, id(b)) # No aliasing, int is immutable"
   ]
  },
  {
   "cell_type": "code",
   "execution_count": 2,
   "metadata": {},
   "outputs": [
    {
     "name": "stdout",
     "output_type": "stream",
     "text": [
      "[1, 2, 3, 4, 5] 4613550152\n",
      "[1, 2, 3, 4, 5] 4613550152\n",
      "\n",
      "['surprise', 2, 3, 4, 5] 4613550152\n",
      "['surprise', 2, 3, 4, 5] 4613550152\n"
     ]
    }
   ],
   "source": [
    "x = [1,2,3,4,5]\n",
    "y = x\n",
    "print(x, id(x)) # [1,2,3,4,5] \n",
    "print(y, id(y)) # [1,2,3,4,5]\n",
    "print()\n",
    "\n",
    "x[0] = 'surprise'\n",
    "print(x, id(x)) # ['surprise', 2, 3, 4, 5]\n",
    "print(y, id(y)) # Aliasing, list is mutable"
   ]
  },
  {
   "cell_type": "code",
   "execution_count": 3,
   "metadata": {},
   "outputs": [
    {
     "name": "stdout",
     "output_type": "stream",
     "text": [
      "[1, 2, 3, 4, 5] 4613117704\n",
      "[1, 2, 3, 4, 5] 4613117704\n",
      "\n",
      "['surprise', 2, 3, 4, 5] 4613117704\n",
      "['surprise', 2, 3, 4, 5] 4613117704\n"
     ]
    }
   ],
   "source": [
    "x = [1,2,3,4,5]\n",
    "y = x\n",
    "print(x, id(x)) # [1,2,3,4,5] \n",
    "print(y, id(y)) # [1,2,3,4,5]\n",
    "print()\n",
    "\n",
    "y[0] = 'surprise'\n",
    "print(x, id(x)) # Aliasing, list is mutable\n",
    "print(y, id(y)) # ['surprise', 2, 3, 4, 5]"
   ]
  },
  {
   "cell_type": "markdown",
   "metadata": {},
   "source": [
    "이런 현상을 알리아싱이라고 하는데, 알리아싱을 없에려면 copy를 해야한다.\n",
    "copy라 함은 포인터를 생성해서 포인팅하는 것이 아니라,\n",
    "각각의 정보를 copy해서 새로운 메모리 위치에 저장하는 것을 의미한다."
   ]
  },
  {
   "cell_type": "markdown",
   "metadata": {},
   "source": [
    "[<a href=\"#Aliasing,-Copy,-and-Deep-Copy\">Back to top</a>]"
   ]
  },
  {
   "cell_type": "markdown",
   "metadata": {},
   "source": [
    "# Copy"
   ]
  },
  {
   "cell_type": "code",
   "execution_count": 4,
   "metadata": {},
   "outputs": [
    {
     "name": "stdout",
     "output_type": "stream",
     "text": [
      "[1, 2, 3, 4, 5] 4613044168\n",
      "[1, 2, 3, 4, 5] 4613532744\n",
      "\n",
      "['surprise', 2, 3, 4, 5] 4613044168\n",
      "[1, 2, 3, 4, 5] 4613532744\n"
     ]
    }
   ],
   "source": [
    "x = [1,2,3,4,5]\n",
    "y = x.copy()\n",
    "print(x, id(x)) # [1,2,3,4,5] \n",
    "print(y, id(y)) # [1,2,3,4,5]\n",
    "print()\n",
    "\n",
    "x[0] = 'surprise'\n",
    "print(x, id(x)) # ['surprise', 2, 3, 4, 5]\n",
    "print(y, id(y)) # ? "
   ]
  },
  {
   "cell_type": "code",
   "execution_count": 5,
   "metadata": {},
   "outputs": [
    {
     "name": "stdout",
     "output_type": "stream",
     "text": [
      "[1, 2, 3, 4, 5] 4613551240\n",
      "[1, 2, 3, 4, 5] 4613558920\n",
      "\n",
      "[1, 2, 3, 4, 5] 4613551240\n",
      "['surprise', 2, 3, 4, 5] 4613558920\n"
     ]
    }
   ],
   "source": [
    "x = [1,2,3,4,5]\n",
    "y = x.copy()\n",
    "print(x, id(x)) # [1,2,3,4,5] \n",
    "print(y, id(y)) # [1,2,3,4,5]\n",
    "print()\n",
    "\n",
    "y[0] = 'surprise'\n",
    "print(x, id(x)) # ?\n",
    "print(y, id(y)) # ['surprise', 2, 3, 4, 5] "
   ]
  },
  {
   "cell_type": "markdown",
   "metadata": {},
   "source": [
    "[<a href=\"#Aliasing,-Copy,-and-Deep-Copy\">Back to top</a>]"
   ]
  },
  {
   "cell_type": "markdown",
   "metadata": {},
   "source": [
    "# Deep Copy"
   ]
  },
  {
   "cell_type": "markdown",
   "metadata": {},
   "source": [
    "- A ***shallow*** copy means constructing a new collection object and then populating it with references to the child objects found in the original. In essence, a shallow copy is only one level deep. The copying process does not recurse and therefore won’t create copies of the child objects themselves.\n",
    "\n",
    "- A ***deep*** copy makes the copying process recursive. It means first constructing a new collection object and then recursively populating it with copies of the child objects found in the original. Copying an object this way walks the whole object tree to create a fully independent clone of the original object and all of its children.\n",
    "\n",
    "https://realpython.com/copying-python-objects/"
   ]
  },
  {
   "cell_type": "code",
   "execution_count": 6,
   "metadata": {},
   "outputs": [
    {
     "name": "stdout",
     "output_type": "stream",
     "text": [
      "[[1, 2, 3], [4, 5, 6], [7, 8, 9]]\n",
      "[[1, 2, 3], [4, 5, 6], [7, 8, 9]]\n",
      "\n",
      "[[1, 2, 3], [4, 5, 6], [7, 8, 9], ['new sublist']]\n",
      "[[1, 2, 3], [4, 5, 6], [7, 8, 9]]\n",
      "\n",
      "[[1, 2, 3], ['X', 5, 6], [7, 8, 9], ['new sublist']]\n",
      "[[1, 2, 3], ['X', 5, 6], [7, 8, 9]]\n"
     ]
    }
   ],
   "source": [
    "x = [[1, 2, 3], [4, 5, 6], [7, 8, 9]]\n",
    "y = x.copy()  # Make a shallow copy\n",
    "\n",
    "print(x) # [[1, 2, 3], [4, 5, 6], [7, 8, 9]]\n",
    "print(y) # [[1, 2, 3], [4, 5, 6], [7, 8, 9]]\n",
    "print()\n",
    "\n",
    "x.append(['new sublist'])\n",
    "\n",
    "print(x) # [[1, 2, 3], [4, 5, 6], [7, 8, 9], ['new sublist']]\n",
    "print(y) # [[1, 2, 3], [4, 5, 6], [7, 8, 9]]\n",
    "print()\n",
    "\n",
    "x[1][0] = 'X'\n",
    "\n",
    "print(x) # [[1, 2, 3], ['X', 5, 6], [7, 8, 9], ['new sublist']]\n",
    "print(y) # [[1, 2, 3], ['X', 5, 6], [7, 8, 9]]"
   ]
  },
  {
   "cell_type": "code",
   "execution_count": 6,
   "metadata": {},
   "outputs": [
    {
     "name": "stdout",
     "output_type": "stream",
     "text": [
      "[[1, 2, 3], [4, 5, 6], [7, 8, 9]]\n",
      "[[1, 2, 3], [4, 5, 6], [7, 8, 9]]\n",
      "\n",
      "[[1, 2, 3], [4, 5, 6], [7, 8, 9], ['new sublist']]\n",
      "[[1, 2, 3], [4, 5, 6], [7, 8, 9]]\n",
      "\n",
      "[[1, 2, 3], ['X', 5, 6], [7, 8, 9], ['new sublist']]\n",
      "[[1, 2, 3], [4, 5, 6], [7, 8, 9]]\n"
     ]
    }
   ],
   "source": [
    "from copy import deepcopy\n",
    "\n",
    "x = [[1, 2, 3], [4, 5, 6], [7, 8, 9]]\n",
    "y = deepcopy(x)  # Make a deep copy\n",
    "\n",
    "print(x)\n",
    "print(y)\n",
    "print()\n",
    "\n",
    "x.append(['new sublist'])\n",
    "\n",
    "print(x)\n",
    "print(y)\n",
    "print()\n",
    "\n",
    "x[1][0] = 'X'\n",
    "\n",
    "print(x)\n",
    "print(y)"
   ]
  },
  {
   "cell_type": "markdown",
   "metadata": {},
   "source": [
    "[<a href=\"#Aliasing,-Copy,-and-Deep-Copy\">Back to top</a>]"
   ]
  }
 ],
 "metadata": {
  "kernelspec": {
   "display_name": "Python 3",
   "language": "python",
   "name": "python3"
  },
  "language_info": {
   "codemirror_mode": {
    "name": "ipython",
    "version": 3
   },
   "file_extension": ".py",
   "mimetype": "text/x-python",
   "name": "python",
   "nbconvert_exporter": "python",
   "pygments_lexer": "ipython3",
   "version": "3.6.9"
  }
 },
 "nbformat": 4,
 "nbformat_minor": 2
}
