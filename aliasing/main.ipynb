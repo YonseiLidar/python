{
 "cells": [
  {
   "cell_type": "code",
   "execution_count": 5,
   "metadata": {},
   "outputs": [
    {
     "name": "stdout",
     "output_type": "stream",
     "text": [
      "True\n",
      "False\n",
      "False\n",
      "140364501197360\n",
      "140364500967584\n"
     ]
    }
   ],
   "source": [
    "a = [1,2,3]\n",
    "b = [1,2,3]\n",
    "print(a == b) # a와 b가 같은 데이터를 가지고 있는가?\n",
    "print(a is b) # a와 b가 같은 오브젝트인가?\n",
    "print(id(a) == id(b)) # a와 b가 같은 오브젝트 indentifier number를 가지고 있는가?\n",
    "print(id(a))\n",
    "print(id(b))"
   ]
  },
  {
   "cell_type": "code",
   "execution_count": 8,
   "metadata": {},
   "outputs": [
    {
     "name": "stdout",
     "output_type": "stream",
     "text": [
      "True\n",
      "False\n",
      "False\n",
      "140365039093632\n",
      "140365039092912\n"
     ]
    }
   ],
   "source": [
    "a = (1,2,[1,2,3]) \n",
    "b = (1,2,[1,2,3]) \n",
    "print(a == b) # a와 b가 같은 데이터를 가지고 있는가?\n",
    "print(a is b) # a와 b가 같은 오브젝트인가?\n",
    "print(id(a) == id(b)) # a와 b가 같은 오브젝트 indentifier number를 가지고 있는가?\n",
    "print(id(a))\n",
    "print(id(b))"
   ]
  },
  {
   "cell_type": "code",
   "execution_count": 9,
   "metadata": {},
   "outputs": [
    {
     "name": "stdout",
     "output_type": "stream",
     "text": [
      "True\n",
      "False\n",
      "False\n",
      "140365039102384\n",
      "140365039102864\n"
     ]
    }
   ],
   "source": [
    "a = {'Calculus', 'Algebra'}\n",
    "b = {'Calculus', 'Algebra'}\n",
    "print(a == b) # a와 b가 같은 데이터를 가지고 있는가?\n",
    "print(a is b) # a와 b가 같은 오브젝트인가?\n",
    "print(id(a) == id(b)) # a와 b가 같은 오브젝트 indentifier number를 가지고 있는가?\n",
    "print(id(a))\n",
    "print(id(b))"
   ]
  },
  {
   "cell_type": "code",
   "execution_count": 10,
   "metadata": {},
   "outputs": [
    {
     "name": "stdout",
     "output_type": "stream",
     "text": [
      "True\n",
      "False\n",
      "False\n",
      "140364770205040\n",
      "140364770205200\n"
     ]
    }
   ],
   "source": [
    "a = {'one' : 1, 'two' : 2, 'three' : 3}\n",
    "b = {'one' : 1, 'two' : 2, 'three' : 3}\n",
    "print(a == b) # a와 b가 같은 데이터를 가지고 있는가?\n",
    "print(a is b) # a와 b가 같은 오브젝트인가?\n",
    "print(id(a) == id(b)) # a와 b가 같은 오브젝트 indentifier number를 가지고 있는가?\n",
    "print(id(a))\n",
    "print(id(b))"
   ]
  },
  {
   "cell_type": "code",
   "execution_count": 11,
   "metadata": {},
   "outputs": [
    {
     "name": "stdout",
     "output_type": "stream",
     "text": [
      "[ True  True  True]\n",
      "False\n",
      "False\n",
      "140364770198432\n",
      "140365303752464\n"
     ]
    }
   ],
   "source": [
    "import numpy as np\n",
    "a = np.array([1,2,3])\n",
    "b = np.array([1,2,3])\n",
    "print(a == b) # a와 b가 같은 데이터를 가지고 있는가?\n",
    "print(a is b) # a와 b가 같은 오브젝트인가?\n",
    "print(id(a) == id(b)) # a와 b가 같은 오브젝트 indentifier number를 가지고 있는가?\n",
    "print(id(a))\n",
    "print(id(b))"
   ]
  },
  {
   "cell_type": "markdown",
   "metadata": {},
   "source": [
    "# aliasing"
   ]
  },
  {
   "cell_type": "code",
   "execution_count": 1,
   "metadata": {},
   "outputs": [
    {
     "name": "stdout",
     "output_type": "stream",
     "text": [
      "[1, 2, 3]\n",
      "[1, 2, 3]\n",
      "--------------------------------------------------\n",
      "[1, 2, 300]\n",
      "[1, 2, 300]\n"
     ]
    }
   ],
   "source": [
    "a = [1,2,3] \n",
    "b = a       \n",
    "print(a)\n",
    "print(b)\n",
    "print('-'*50)\n",
    "\n",
    "b[-1] = 300\n",
    "print(a) # aliasing\n",
    "print(b) # aliasing"
   ]
  },
  {
   "cell_type": "code",
   "execution_count": 3,
   "metadata": {},
   "outputs": [
    {
     "name": "stdout",
     "output_type": "stream",
     "text": [
      "[1, 2, 3]\n",
      "[1, 2, 3]\n",
      "--------------------------------------------------\n",
      "[1, 2, 3]\n",
      "[1, 2, 300]\n"
     ]
    }
   ],
   "source": [
    "a = [1,2,3] \n",
    "b = [1,2,3] \n",
    "print(a)\n",
    "print(b)\n",
    "print('-'*50)\n",
    "\n",
    "b[-1] = 300\n",
    "print(a) # no aliasing\n",
    "print(b) # no aliasing"
   ]
  },
  {
   "cell_type": "code",
   "execution_count": 6,
   "metadata": {},
   "outputs": [
    {
     "name": "stdout",
     "output_type": "stream",
     "text": [
      "(1, 2, [1, 2, 3])\n",
      "(1, 2, [1, 2, 3])\n",
      "--------------------------------------------------\n",
      "(1, 2, [1, 2, 300])\n",
      "(1, 2, [1, 2, 300])\n"
     ]
    }
   ],
   "source": [
    "a = (1,2,[1,2,3]) \n",
    "b = a             \n",
    "print(a)\n",
    "print(b)\n",
    "print('-'*50)\n",
    "\n",
    "b[-1][-1] = 300\n",
    "print(a) # aliasing\n",
    "print(b) # aliasing"
   ]
  },
  {
   "cell_type": "code",
   "execution_count": 7,
   "metadata": {},
   "outputs": [
    {
     "name": "stdout",
     "output_type": "stream",
     "text": [
      "(1, 2, [1, 2, 3])\n",
      "(1, 2, [1, 2, 3])\n",
      "--------------------------------------------------\n",
      "(1, 2, [1, 2, 3])\n",
      "(1, 2, [1, 2, 300])\n"
     ]
    }
   ],
   "source": [
    "a = (1,2,[1,2,3]) \n",
    "b = (1,2,[1,2,3]) \n",
    "print(a)\n",
    "print(b)\n",
    "print('-'*50)\n",
    "\n",
    "b[-1][-1] = 300\n",
    "print(a) # no aliasing\n",
    "print(b) # no aliasing"
   ]
  },
  {
   "cell_type": "code",
   "execution_count": 12,
   "metadata": {},
   "outputs": [
    {
     "name": "stdout",
     "output_type": "stream",
     "text": [
      "{'Calculus', 'Algebra'}\n",
      "{'Calculus', 'Algebra'}\n",
      "--------------------------------------------------\n",
      "{'Calculus'}\n",
      "{'Calculus'}\n"
     ]
    }
   ],
   "source": [
    "a = {'Calculus', 'Algebra'} \n",
    "b = a             \n",
    "print(a)\n",
    "print(b)\n",
    "print('-'*50)\n",
    "\n",
    "b.remove('Algebra')\n",
    "print(a) # aliasing\n",
    "print(b) # aliasing"
   ]
  },
  {
   "cell_type": "code",
   "execution_count": 13,
   "metadata": {},
   "outputs": [
    {
     "name": "stdout",
     "output_type": "stream",
     "text": [
      "{'Calculus', 'Algebra'}\n",
      "{'Calculus', 'Algebra'}\n",
      "--------------------------------------------------\n",
      "{'Calculus', 'Algebra'}\n",
      "{'Calculus'}\n"
     ]
    }
   ],
   "source": [
    "a = {'Calculus', 'Algebra'} \n",
    "b = {'Calculus', 'Algebra'}              \n",
    "print(a)\n",
    "print(b)\n",
    "print('-'*50)\n",
    "\n",
    "b.remove('Algebra')\n",
    "print(a) # no aliasing\n",
    "print(b) # no aliasing"
   ]
  },
  {
   "cell_type": "code",
   "execution_count": 14,
   "metadata": {},
   "outputs": [
    {
     "name": "stdout",
     "output_type": "stream",
     "text": [
      "{'one': 1, 'two': 2, 'three': 3}\n",
      "{'one': 1, 'two': 2, 'three': 3}\n",
      "--------------------------------------------------\n",
      "{'one': 1, 'two': 2}\n",
      "{'one': 1, 'two': 2}\n"
     ]
    }
   ],
   "source": [
    "a = {'one' : 1, 'two' : 2, 'three' : 3} \n",
    "b = a             \n",
    "print(a)\n",
    "print(b)\n",
    "print('-'*50)\n",
    "\n",
    "del b['three']\n",
    "print(a) # aliasing\n",
    "print(b) # aliasing"
   ]
  },
  {
   "cell_type": "code",
   "execution_count": 15,
   "metadata": {},
   "outputs": [
    {
     "name": "stdout",
     "output_type": "stream",
     "text": [
      "{'one': 1, 'two': 2, 'three': 3}\n",
      "{'one': 1, 'two': 2, 'three': 3}\n",
      "--------------------------------------------------\n",
      "{'one': 1, 'two': 2, 'three': 3}\n",
      "{'one': 1, 'two': 2}\n"
     ]
    }
   ],
   "source": [
    "a = {'one' : 1, 'two' : 2, 'three' : 3} \n",
    "b = {'one' : 1, 'two' : 2, 'three' : 3}             \n",
    "print(a)\n",
    "print(b)\n",
    "print('-'*50)\n",
    "\n",
    "del b['three']\n",
    "print(a) # no aliasing\n",
    "print(b) # no aliasing"
   ]
  },
  {
   "cell_type": "code",
   "execution_count": 16,
   "metadata": {},
   "outputs": [
    {
     "name": "stdout",
     "output_type": "stream",
     "text": [
      "[1 2 3]\n",
      "[1 2 3]\n",
      "--------------------------------------------------\n",
      "[  1   2 300]\n",
      "[  1   2 300]\n"
     ]
    }
   ],
   "source": [
    "import numpy as np\n",
    "\n",
    "a = np.array([1,2,3]) \n",
    "b = a                 \n",
    "print(a)\n",
    "print(b)\n",
    "print('-'*50)\n",
    "\n",
    "b[-1] = 300\n",
    "print(a) # aliasing\n",
    "print(b) # aliasing"
   ]
  },
  {
   "cell_type": "code",
   "execution_count": 17,
   "metadata": {},
   "outputs": [
    {
     "name": "stdout",
     "output_type": "stream",
     "text": [
      "[1 2 3]\n",
      "[1 2 3]\n",
      "--------------------------------------------------\n",
      "[1 2 3]\n",
      "[  1   2 300]\n"
     ]
    }
   ],
   "source": [
    "import numpy as np\n",
    "\n",
    "a = np.array([1,2,3]) \n",
    "b = np.array([1,2,3]) \n",
    "print(a)\n",
    "print(b)\n",
    "print('-'*50)\n",
    "\n",
    "b[-1] = 300\n",
    "print(a) # no aliasing\n",
    "print(b) # no aliasing"
   ]
  },
  {
   "cell_type": "markdown",
   "metadata": {},
   "source": [
    "# shallow copy"
   ]
  },
  {
   "cell_type": "code",
   "execution_count": 20,
   "metadata": {},
   "outputs": [
    {
     "name": "stdout",
     "output_type": "stream",
     "text": [
      "[1, 2, 3]\n",
      "[1, 2, 3]\n",
      "--------------------------------------------------\n",
      "[1, 2, 3]\n",
      "[1, 2, 300]\n"
     ]
    }
   ],
   "source": [
    "import copy\n",
    "\n",
    "a = [1,2,3]\n",
    "\n",
    "# In this case, a and b are pointing the same list object.\n",
    "# b = a \n",
    "\n",
    "# In this case, [1,2,3] is copied.\n",
    "# a is pointing the original list, whereas\n",
    "# b is pointing the copied list\n",
    "#b = a \n",
    "#b = a[:] # shallow copy\n",
    "b = copy.copy(a) # shallow copy\n",
    "print(a)\n",
    "print(b)\n",
    "print('-'*50)\n",
    "\n",
    "b[-1] = 300\n",
    "print(a)\n",
    "print(b)"
   ]
  },
  {
   "cell_type": "code",
   "execution_count": 24,
   "metadata": {},
   "outputs": [
    {
     "name": "stdout",
     "output_type": "stream",
     "text": [
      "[1 2 3]\n",
      "[1 2 3]\n",
      "--------------------------------------------------\n",
      "[1 2 3]\n",
      "[  1   2 300]\n"
     ]
    }
   ],
   "source": [
    "import numpy as np\n",
    "import copy\n",
    "\n",
    "a = np.array([1,2,3])\n",
    "\n",
    "# In this case, a and b are pointing the same np array object.\n",
    "#b = a \n",
    "\n",
    "# In this case, np.array([1,2,3]) is copied.\n",
    "# a is pointing the original np array, whereas\n",
    "# b is pointing the copied np array.\n",
    "#b = a.copy()    # shallow copy\n",
    "#b = np.copy(a)  # shallow copy\n",
    "b = copy.copy(a) # shallow copy\n",
    "print(a)\n",
    "print(b)\n",
    "print('-'*50)\n",
    "\n",
    "b[-1] = 300\n",
    "print(a)\n",
    "print(b)"
   ]
  },
  {
   "cell_type": "code",
   "execution_count": 29,
   "metadata": {},
   "outputs": [
    {
     "name": "stdout",
     "output_type": "stream",
     "text": [
      "[1, 2, [1, 2, 3]]\n",
      "[1, 2, [1, 2, 3]]\n",
      "--------------------------------------------------\n",
      "[1, 2, [1, 2, 3]]\n",
      "[1, 2, [1, 2, 300]]\n"
     ]
    }
   ],
   "source": [
    "import copy\n",
    "\n",
    "a = [1,2,[1,2,3]]\n",
    "#b = a # aliasing\n",
    "#b = a[:] # shallow copy (aliasing)\n",
    "#b = copy.copy(a) # shallow copy (aliasing)\n",
    "b = copy.deepcopy(a) # deep copy (no aliasing)\n",
    "print(a)\n",
    "print(b)\n",
    "print('-'*50)\n",
    "\n",
    "b[-1][-1] = 300\n",
    "print(a)\n",
    "print(b)"
   ]
  },
  {
   "cell_type": "code",
   "execution_count": null,
   "metadata": {},
   "outputs": [],
   "source": []
  }
 ],
 "metadata": {
  "kernelspec": {
   "display_name": "Python 3",
   "language": "python",
   "name": "python3"
  },
  "language_info": {
   "codemirror_mode": {
    "name": "ipython",
    "version": 3
   },
   "file_extension": ".py",
   "mimetype": "text/x-python",
   "name": "python",
   "nbconvert_exporter": "python",
   "pygments_lexer": "ipython3",
   "version": "3.7.7"
  }
 },
 "nbformat": 4,
 "nbformat_minor": 4
}
